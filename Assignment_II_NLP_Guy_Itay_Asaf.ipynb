{
  "nbformat": 4,
  "nbformat_minor": 0,
  "metadata": {
    "colab": {
      "provenance": [],
      "gpuType": "T4"
    },
    "kernelspec": {
      "name": "python3",
      "display_name": "Python 3"
    },
    "language_info": {
      "name": "python"
    },
    "accelerator": "GPU",
    "widgets": {
      "application/vnd.jupyter.widget-state+json": {
        "921570d118f749bda77c7e6c765e6992": {
          "model_module": "@jupyter-widgets/controls",
          "model_name": "HBoxModel",
          "model_module_version": "1.5.0",
          "state": {
            "_dom_classes": [],
            "_model_module": "@jupyter-widgets/controls",
            "_model_module_version": "1.5.0",
            "_model_name": "HBoxModel",
            "_view_count": null,
            "_view_module": "@jupyter-widgets/controls",
            "_view_module_version": "1.5.0",
            "_view_name": "HBoxView",
            "box_style": "",
            "children": [
              "IPY_MODEL_33bec8c52b1140c2ae0be6108d31635f",
              "IPY_MODEL_603678206e904e5689c36521a99b0328",
              "IPY_MODEL_04ce3946405f4462a46597f1e2193853"
            ],
            "layout": "IPY_MODEL_a6b8f8930afc479c98c8530cece4608f"
          }
        },
        "33bec8c52b1140c2ae0be6108d31635f": {
          "model_module": "@jupyter-widgets/controls",
          "model_name": "HTMLModel",
          "model_module_version": "1.5.0",
          "state": {
            "_dom_classes": [],
            "_model_module": "@jupyter-widgets/controls",
            "_model_module_version": "1.5.0",
            "_model_name": "HTMLModel",
            "_view_count": null,
            "_view_module": "@jupyter-widgets/controls",
            "_view_module_version": "1.5.0",
            "_view_name": "HTMLView",
            "description": "",
            "description_tooltip": null,
            "layout": "IPY_MODEL_c1e2170fd0d74a579f14dfedb95a980a",
            "placeholder": "​",
            "style": "IPY_MODEL_bbd913a204ce458ca39c2865eb6485af",
            "value": "100%"
          }
        },
        "603678206e904e5689c36521a99b0328": {
          "model_module": "@jupyter-widgets/controls",
          "model_name": "FloatProgressModel",
          "model_module_version": "1.5.0",
          "state": {
            "_dom_classes": [],
            "_model_module": "@jupyter-widgets/controls",
            "_model_module_version": "1.5.0",
            "_model_name": "FloatProgressModel",
            "_view_count": null,
            "_view_module": "@jupyter-widgets/controls",
            "_view_module_version": "1.5.0",
            "_view_name": "ProgressView",
            "bar_style": "success",
            "description": "",
            "description_tooltip": null,
            "layout": "IPY_MODEL_cdbeda02040547b2bfb0a39ec344d49c",
            "max": 70289,
            "min": 0,
            "orientation": "horizontal",
            "style": "IPY_MODEL_4509cb340859413a8784e41eee689685",
            "value": 70289
          }
        },
        "04ce3946405f4462a46597f1e2193853": {
          "model_module": "@jupyter-widgets/controls",
          "model_name": "HTMLModel",
          "model_module_version": "1.5.0",
          "state": {
            "_dom_classes": [],
            "_model_module": "@jupyter-widgets/controls",
            "_model_module_version": "1.5.0",
            "_model_name": "HTMLModel",
            "_view_count": null,
            "_view_module": "@jupyter-widgets/controls",
            "_view_module_version": "1.5.0",
            "_view_name": "HTMLView",
            "description": "",
            "description_tooltip": null,
            "layout": "IPY_MODEL_a3416a0cf1334d74aa85b73829cc87a5",
            "placeholder": "​",
            "style": "IPY_MODEL_ddc5eb8d04084f67a0455d0087262113",
            "value": " 70289/70289 [00:09&lt;00:00, 7782.88it/s]"
          }
        },
        "a6b8f8930afc479c98c8530cece4608f": {
          "model_module": "@jupyter-widgets/base",
          "model_name": "LayoutModel",
          "model_module_version": "1.2.0",
          "state": {
            "_model_module": "@jupyter-widgets/base",
            "_model_module_version": "1.2.0",
            "_model_name": "LayoutModel",
            "_view_count": null,
            "_view_module": "@jupyter-widgets/base",
            "_view_module_version": "1.2.0",
            "_view_name": "LayoutView",
            "align_content": null,
            "align_items": null,
            "align_self": null,
            "border": null,
            "bottom": null,
            "display": null,
            "flex": null,
            "flex_flow": null,
            "grid_area": null,
            "grid_auto_columns": null,
            "grid_auto_flow": null,
            "grid_auto_rows": null,
            "grid_column": null,
            "grid_gap": null,
            "grid_row": null,
            "grid_template_areas": null,
            "grid_template_columns": null,
            "grid_template_rows": null,
            "height": null,
            "justify_content": null,
            "justify_items": null,
            "left": null,
            "margin": null,
            "max_height": null,
            "max_width": null,
            "min_height": null,
            "min_width": null,
            "object_fit": null,
            "object_position": null,
            "order": null,
            "overflow": null,
            "overflow_x": null,
            "overflow_y": null,
            "padding": null,
            "right": null,
            "top": null,
            "visibility": null,
            "width": null
          }
        },
        "c1e2170fd0d74a579f14dfedb95a980a": {
          "model_module": "@jupyter-widgets/base",
          "model_name": "LayoutModel",
          "model_module_version": "1.2.0",
          "state": {
            "_model_module": "@jupyter-widgets/base",
            "_model_module_version": "1.2.0",
            "_model_name": "LayoutModel",
            "_view_count": null,
            "_view_module": "@jupyter-widgets/base",
            "_view_module_version": "1.2.0",
            "_view_name": "LayoutView",
            "align_content": null,
            "align_items": null,
            "align_self": null,
            "border": null,
            "bottom": null,
            "display": null,
            "flex": null,
            "flex_flow": null,
            "grid_area": null,
            "grid_auto_columns": null,
            "grid_auto_flow": null,
            "grid_auto_rows": null,
            "grid_column": null,
            "grid_gap": null,
            "grid_row": null,
            "grid_template_areas": null,
            "grid_template_columns": null,
            "grid_template_rows": null,
            "height": null,
            "justify_content": null,
            "justify_items": null,
            "left": null,
            "margin": null,
            "max_height": null,
            "max_width": null,
            "min_height": null,
            "min_width": null,
            "object_fit": null,
            "object_position": null,
            "order": null,
            "overflow": null,
            "overflow_x": null,
            "overflow_y": null,
            "padding": null,
            "right": null,
            "top": null,
            "visibility": null,
            "width": null
          }
        },
        "bbd913a204ce458ca39c2865eb6485af": {
          "model_module": "@jupyter-widgets/controls",
          "model_name": "DescriptionStyleModel",
          "model_module_version": "1.5.0",
          "state": {
            "_model_module": "@jupyter-widgets/controls",
            "_model_module_version": "1.5.0",
            "_model_name": "DescriptionStyleModel",
            "_view_count": null,
            "_view_module": "@jupyter-widgets/base",
            "_view_module_version": "1.2.0",
            "_view_name": "StyleView",
            "description_width": ""
          }
        },
        "cdbeda02040547b2bfb0a39ec344d49c": {
          "model_module": "@jupyter-widgets/base",
          "model_name": "LayoutModel",
          "model_module_version": "1.2.0",
          "state": {
            "_model_module": "@jupyter-widgets/base",
            "_model_module_version": "1.2.0",
            "_model_name": "LayoutModel",
            "_view_count": null,
            "_view_module": "@jupyter-widgets/base",
            "_view_module_version": "1.2.0",
            "_view_name": "LayoutView",
            "align_content": null,
            "align_items": null,
            "align_self": null,
            "border": null,
            "bottom": null,
            "display": null,
            "flex": null,
            "flex_flow": null,
            "grid_area": null,
            "grid_auto_columns": null,
            "grid_auto_flow": null,
            "grid_auto_rows": null,
            "grid_column": null,
            "grid_gap": null,
            "grid_row": null,
            "grid_template_areas": null,
            "grid_template_columns": null,
            "grid_template_rows": null,
            "height": null,
            "justify_content": null,
            "justify_items": null,
            "left": null,
            "margin": null,
            "max_height": null,
            "max_width": null,
            "min_height": null,
            "min_width": null,
            "object_fit": null,
            "object_position": null,
            "order": null,
            "overflow": null,
            "overflow_x": null,
            "overflow_y": null,
            "padding": null,
            "right": null,
            "top": null,
            "visibility": null,
            "width": null
          }
        },
        "4509cb340859413a8784e41eee689685": {
          "model_module": "@jupyter-widgets/controls",
          "model_name": "ProgressStyleModel",
          "model_module_version": "1.5.0",
          "state": {
            "_model_module": "@jupyter-widgets/controls",
            "_model_module_version": "1.5.0",
            "_model_name": "ProgressStyleModel",
            "_view_count": null,
            "_view_module": "@jupyter-widgets/base",
            "_view_module_version": "1.2.0",
            "_view_name": "StyleView",
            "bar_color": null,
            "description_width": ""
          }
        },
        "a3416a0cf1334d74aa85b73829cc87a5": {
          "model_module": "@jupyter-widgets/base",
          "model_name": "LayoutModel",
          "model_module_version": "1.2.0",
          "state": {
            "_model_module": "@jupyter-widgets/base",
            "_model_module_version": "1.2.0",
            "_model_name": "LayoutModel",
            "_view_count": null,
            "_view_module": "@jupyter-widgets/base",
            "_view_module_version": "1.2.0",
            "_view_name": "LayoutView",
            "align_content": null,
            "align_items": null,
            "align_self": null,
            "border": null,
            "bottom": null,
            "display": null,
            "flex": null,
            "flex_flow": null,
            "grid_area": null,
            "grid_auto_columns": null,
            "grid_auto_flow": null,
            "grid_auto_rows": null,
            "grid_column": null,
            "grid_gap": null,
            "grid_row": null,
            "grid_template_areas": null,
            "grid_template_columns": null,
            "grid_template_rows": null,
            "height": null,
            "justify_content": null,
            "justify_items": null,
            "left": null,
            "margin": null,
            "max_height": null,
            "max_width": null,
            "min_height": null,
            "min_width": null,
            "object_fit": null,
            "object_position": null,
            "order": null,
            "overflow": null,
            "overflow_x": null,
            "overflow_y": null,
            "padding": null,
            "right": null,
            "top": null,
            "visibility": null,
            "width": null
          }
        },
        "ddc5eb8d04084f67a0455d0087262113": {
          "model_module": "@jupyter-widgets/controls",
          "model_name": "DescriptionStyleModel",
          "model_module_version": "1.5.0",
          "state": {
            "_model_module": "@jupyter-widgets/controls",
            "_model_module_version": "1.5.0",
            "_model_name": "DescriptionStyleModel",
            "_view_count": null,
            "_view_module": "@jupyter-widgets/base",
            "_view_module_version": "1.2.0",
            "_view_name": "StyleView",
            "description_width": ""
          }
        },
        "0f3bbd91de464d4f9f968089a370706f": {
          "model_module": "@jupyter-widgets/controls",
          "model_name": "HBoxModel",
          "model_module_version": "1.5.0",
          "state": {
            "_dom_classes": [],
            "_model_module": "@jupyter-widgets/controls",
            "_model_module_version": "1.5.0",
            "_model_name": "HBoxModel",
            "_view_count": null,
            "_view_module": "@jupyter-widgets/controls",
            "_view_module_version": "1.5.0",
            "_view_name": "HBoxView",
            "box_style": "",
            "children": [
              "IPY_MODEL_bad12ad0a4aa467e87ad8e0d8e130a8e",
              "IPY_MODEL_526fa2f5486345aeb30495be980ae91c",
              "IPY_MODEL_386da8a72d954040a2ad8b7b82dde3de"
            ],
            "layout": "IPY_MODEL_d557777960754559a5dc45ae1cfa3d72"
          }
        },
        "bad12ad0a4aa467e87ad8e0d8e130a8e": {
          "model_module": "@jupyter-widgets/controls",
          "model_name": "HTMLModel",
          "model_module_version": "1.5.0",
          "state": {
            "_dom_classes": [],
            "_model_module": "@jupyter-widgets/controls",
            "_model_module_version": "1.5.0",
            "_model_name": "HTMLModel",
            "_view_count": null,
            "_view_module": "@jupyter-widgets/controls",
            "_view_module_version": "1.5.0",
            "_view_name": "HTMLView",
            "description": "",
            "description_tooltip": null,
            "layout": "IPY_MODEL_cd4596d368794e5aa364019da0202d38",
            "placeholder": "​",
            "style": "IPY_MODEL_73418adb69564cbdbb64dcb6ba9b1c20",
            "value": "100%"
          }
        },
        "526fa2f5486345aeb30495be980ae91c": {
          "model_module": "@jupyter-widgets/controls",
          "model_name": "FloatProgressModel",
          "model_module_version": "1.5.0",
          "state": {
            "_dom_classes": [],
            "_model_module": "@jupyter-widgets/controls",
            "_model_module_version": "1.5.0",
            "_model_name": "FloatProgressModel",
            "_view_count": null,
            "_view_module": "@jupyter-widgets/controls",
            "_view_module_version": "1.5.0",
            "_view_name": "ProgressView",
            "bar_style": "success",
            "description": "",
            "description_tooltip": null,
            "layout": "IPY_MODEL_1c2a95f89eed4f0399a2ec8b68896f02",
            "max": 70289,
            "min": 0,
            "orientation": "horizontal",
            "style": "IPY_MODEL_33987e1912c74e3584e0b98e1b823f8c",
            "value": 70289
          }
        },
        "386da8a72d954040a2ad8b7b82dde3de": {
          "model_module": "@jupyter-widgets/controls",
          "model_name": "HTMLModel",
          "model_module_version": "1.5.0",
          "state": {
            "_dom_classes": [],
            "_model_module": "@jupyter-widgets/controls",
            "_model_module_version": "1.5.0",
            "_model_name": "HTMLModel",
            "_view_count": null,
            "_view_module": "@jupyter-widgets/controls",
            "_view_module_version": "1.5.0",
            "_view_name": "HTMLView",
            "description": "",
            "description_tooltip": null,
            "layout": "IPY_MODEL_8a5c7576cbb64c908c35b483d77c1bc8",
            "placeholder": "​",
            "style": "IPY_MODEL_9723e11247c747b084030ae4b2a1b903",
            "value": " 70289/70289 [00:17&lt;00:00, 9207.07it/s]"
          }
        },
        "d557777960754559a5dc45ae1cfa3d72": {
          "model_module": "@jupyter-widgets/base",
          "model_name": "LayoutModel",
          "model_module_version": "1.2.0",
          "state": {
            "_model_module": "@jupyter-widgets/base",
            "_model_module_version": "1.2.0",
            "_model_name": "LayoutModel",
            "_view_count": null,
            "_view_module": "@jupyter-widgets/base",
            "_view_module_version": "1.2.0",
            "_view_name": "LayoutView",
            "align_content": null,
            "align_items": null,
            "align_self": null,
            "border": null,
            "bottom": null,
            "display": null,
            "flex": null,
            "flex_flow": null,
            "grid_area": null,
            "grid_auto_columns": null,
            "grid_auto_flow": null,
            "grid_auto_rows": null,
            "grid_column": null,
            "grid_gap": null,
            "grid_row": null,
            "grid_template_areas": null,
            "grid_template_columns": null,
            "grid_template_rows": null,
            "height": null,
            "justify_content": null,
            "justify_items": null,
            "left": null,
            "margin": null,
            "max_height": null,
            "max_width": null,
            "min_height": null,
            "min_width": null,
            "object_fit": null,
            "object_position": null,
            "order": null,
            "overflow": null,
            "overflow_x": null,
            "overflow_y": null,
            "padding": null,
            "right": null,
            "top": null,
            "visibility": null,
            "width": null
          }
        },
        "cd4596d368794e5aa364019da0202d38": {
          "model_module": "@jupyter-widgets/base",
          "model_name": "LayoutModel",
          "model_module_version": "1.2.0",
          "state": {
            "_model_module": "@jupyter-widgets/base",
            "_model_module_version": "1.2.0",
            "_model_name": "LayoutModel",
            "_view_count": null,
            "_view_module": "@jupyter-widgets/base",
            "_view_module_version": "1.2.0",
            "_view_name": "LayoutView",
            "align_content": null,
            "align_items": null,
            "align_self": null,
            "border": null,
            "bottom": null,
            "display": null,
            "flex": null,
            "flex_flow": null,
            "grid_area": null,
            "grid_auto_columns": null,
            "grid_auto_flow": null,
            "grid_auto_rows": null,
            "grid_column": null,
            "grid_gap": null,
            "grid_row": null,
            "grid_template_areas": null,
            "grid_template_columns": null,
            "grid_template_rows": null,
            "height": null,
            "justify_content": null,
            "justify_items": null,
            "left": null,
            "margin": null,
            "max_height": null,
            "max_width": null,
            "min_height": null,
            "min_width": null,
            "object_fit": null,
            "object_position": null,
            "order": null,
            "overflow": null,
            "overflow_x": null,
            "overflow_y": null,
            "padding": null,
            "right": null,
            "top": null,
            "visibility": null,
            "width": null
          }
        },
        "73418adb69564cbdbb64dcb6ba9b1c20": {
          "model_module": "@jupyter-widgets/controls",
          "model_name": "DescriptionStyleModel",
          "model_module_version": "1.5.0",
          "state": {
            "_model_module": "@jupyter-widgets/controls",
            "_model_module_version": "1.5.0",
            "_model_name": "DescriptionStyleModel",
            "_view_count": null,
            "_view_module": "@jupyter-widgets/base",
            "_view_module_version": "1.2.0",
            "_view_name": "StyleView",
            "description_width": ""
          }
        },
        "1c2a95f89eed4f0399a2ec8b68896f02": {
          "model_module": "@jupyter-widgets/base",
          "model_name": "LayoutModel",
          "model_module_version": "1.2.0",
          "state": {
            "_model_module": "@jupyter-widgets/base",
            "_model_module_version": "1.2.0",
            "_model_name": "LayoutModel",
            "_view_count": null,
            "_view_module": "@jupyter-widgets/base",
            "_view_module_version": "1.2.0",
            "_view_name": "LayoutView",
            "align_content": null,
            "align_items": null,
            "align_self": null,
            "border": null,
            "bottom": null,
            "display": null,
            "flex": null,
            "flex_flow": null,
            "grid_area": null,
            "grid_auto_columns": null,
            "grid_auto_flow": null,
            "grid_auto_rows": null,
            "grid_column": null,
            "grid_gap": null,
            "grid_row": null,
            "grid_template_areas": null,
            "grid_template_columns": null,
            "grid_template_rows": null,
            "height": null,
            "justify_content": null,
            "justify_items": null,
            "left": null,
            "margin": null,
            "max_height": null,
            "max_width": null,
            "min_height": null,
            "min_width": null,
            "object_fit": null,
            "object_position": null,
            "order": null,
            "overflow": null,
            "overflow_x": null,
            "overflow_y": null,
            "padding": null,
            "right": null,
            "top": null,
            "visibility": null,
            "width": null
          }
        },
        "33987e1912c74e3584e0b98e1b823f8c": {
          "model_module": "@jupyter-widgets/controls",
          "model_name": "ProgressStyleModel",
          "model_module_version": "1.5.0",
          "state": {
            "_model_module": "@jupyter-widgets/controls",
            "_model_module_version": "1.5.0",
            "_model_name": "ProgressStyleModel",
            "_view_count": null,
            "_view_module": "@jupyter-widgets/base",
            "_view_module_version": "1.2.0",
            "_view_name": "StyleView",
            "bar_color": null,
            "description_width": ""
          }
        },
        "8a5c7576cbb64c908c35b483d77c1bc8": {
          "model_module": "@jupyter-widgets/base",
          "model_name": "LayoutModel",
          "model_module_version": "1.2.0",
          "state": {
            "_model_module": "@jupyter-widgets/base",
            "_model_module_version": "1.2.0",
            "_model_name": "LayoutModel",
            "_view_count": null,
            "_view_module": "@jupyter-widgets/base",
            "_view_module_version": "1.2.0",
            "_view_name": "LayoutView",
            "align_content": null,
            "align_items": null,
            "align_self": null,
            "border": null,
            "bottom": null,
            "display": null,
            "flex": null,
            "flex_flow": null,
            "grid_area": null,
            "grid_auto_columns": null,
            "grid_auto_flow": null,
            "grid_auto_rows": null,
            "grid_column": null,
            "grid_gap": null,
            "grid_row": null,
            "grid_template_areas": null,
            "grid_template_columns": null,
            "grid_template_rows": null,
            "height": null,
            "justify_content": null,
            "justify_items": null,
            "left": null,
            "margin": null,
            "max_height": null,
            "max_width": null,
            "min_height": null,
            "min_width": null,
            "object_fit": null,
            "object_position": null,
            "order": null,
            "overflow": null,
            "overflow_x": null,
            "overflow_y": null,
            "padding": null,
            "right": null,
            "top": null,
            "visibility": null,
            "width": null
          }
        },
        "9723e11247c747b084030ae4b2a1b903": {
          "model_module": "@jupyter-widgets/controls",
          "model_name": "DescriptionStyleModel",
          "model_module_version": "1.5.0",
          "state": {
            "_model_module": "@jupyter-widgets/controls",
            "_model_module_version": "1.5.0",
            "_model_name": "DescriptionStyleModel",
            "_view_count": null,
            "_view_module": "@jupyter-widgets/base",
            "_view_module_version": "1.2.0",
            "_view_name": "StyleView",
            "description_width": ""
          }
        },
        "0811e73c5b3442809c862d06e08c1e6d": {
          "model_module": "@jupyter-widgets/controls",
          "model_name": "HBoxModel",
          "model_module_version": "1.5.0",
          "state": {
            "_dom_classes": [],
            "_model_module": "@jupyter-widgets/controls",
            "_model_module_version": "1.5.0",
            "_model_name": "HBoxModel",
            "_view_count": null,
            "_view_module": "@jupyter-widgets/controls",
            "_view_module_version": "1.5.0",
            "_view_name": "HBoxView",
            "box_style": "",
            "children": [
              "IPY_MODEL_5564030d06a743bb8e42efe213feaace",
              "IPY_MODEL_513c955ba6a24eed8e76a8219cf40eda",
              "IPY_MODEL_4d4269f4f8e34c00857b8483d2a1a4e2"
            ],
            "layout": "IPY_MODEL_57aea221283e4c91ab2227c73e022dd3"
          }
        },
        "5564030d06a743bb8e42efe213feaace": {
          "model_module": "@jupyter-widgets/controls",
          "model_name": "HTMLModel",
          "model_module_version": "1.5.0",
          "state": {
            "_dom_classes": [],
            "_model_module": "@jupyter-widgets/controls",
            "_model_module_version": "1.5.0",
            "_model_name": "HTMLModel",
            "_view_count": null,
            "_view_module": "@jupyter-widgets/controls",
            "_view_module_version": "1.5.0",
            "_view_name": "HTMLView",
            "description": "",
            "description_tooltip": null,
            "layout": "IPY_MODEL_e9700997e421471c988c0cfa43710fd7",
            "placeholder": "​",
            "style": "IPY_MODEL_23c3bda36fb346dbb3fd2b84538d1282",
            "value": "100%"
          }
        },
        "513c955ba6a24eed8e76a8219cf40eda": {
          "model_module": "@jupyter-widgets/controls",
          "model_name": "FloatProgressModel",
          "model_module_version": "1.5.0",
          "state": {
            "_dom_classes": [],
            "_model_module": "@jupyter-widgets/controls",
            "_model_module_version": "1.5.0",
            "_model_name": "FloatProgressModel",
            "_view_count": null,
            "_view_module": "@jupyter-widgets/controls",
            "_view_module_version": "1.5.0",
            "_view_name": "ProgressView",
            "bar_style": "success",
            "description": "",
            "description_tooltip": null,
            "layout": "IPY_MODEL_5d6ff94273e74df99aceaef9e60e78c5",
            "max": 4217,
            "min": 0,
            "orientation": "horizontal",
            "style": "IPY_MODEL_1db7e1d007a84c78afba5d71eaec9c3e",
            "value": 4217
          }
        },
        "4d4269f4f8e34c00857b8483d2a1a4e2": {
          "model_module": "@jupyter-widgets/controls",
          "model_name": "HTMLModel",
          "model_module_version": "1.5.0",
          "state": {
            "_dom_classes": [],
            "_model_module": "@jupyter-widgets/controls",
            "_model_module_version": "1.5.0",
            "_model_name": "HTMLModel",
            "_view_count": null,
            "_view_module": "@jupyter-widgets/controls",
            "_view_module_version": "1.5.0",
            "_view_name": "HTMLView",
            "description": "",
            "description_tooltip": null,
            "layout": "IPY_MODEL_4698353cbeeb4e728f320dc8b287edcf",
            "placeholder": "​",
            "style": "IPY_MODEL_85f15218e8d34b69854c8e5d8bfb85f9",
            "value": " 4217/4217 [00:00&lt;00:00, 9902.15it/s]"
          }
        },
        "57aea221283e4c91ab2227c73e022dd3": {
          "model_module": "@jupyter-widgets/base",
          "model_name": "LayoutModel",
          "model_module_version": "1.2.0",
          "state": {
            "_model_module": "@jupyter-widgets/base",
            "_model_module_version": "1.2.0",
            "_model_name": "LayoutModel",
            "_view_count": null,
            "_view_module": "@jupyter-widgets/base",
            "_view_module_version": "1.2.0",
            "_view_name": "LayoutView",
            "align_content": null,
            "align_items": null,
            "align_self": null,
            "border": null,
            "bottom": null,
            "display": null,
            "flex": null,
            "flex_flow": null,
            "grid_area": null,
            "grid_auto_columns": null,
            "grid_auto_flow": null,
            "grid_auto_rows": null,
            "grid_column": null,
            "grid_gap": null,
            "grid_row": null,
            "grid_template_areas": null,
            "grid_template_columns": null,
            "grid_template_rows": null,
            "height": null,
            "justify_content": null,
            "justify_items": null,
            "left": null,
            "margin": null,
            "max_height": null,
            "max_width": null,
            "min_height": null,
            "min_width": null,
            "object_fit": null,
            "object_position": null,
            "order": null,
            "overflow": null,
            "overflow_x": null,
            "overflow_y": null,
            "padding": null,
            "right": null,
            "top": null,
            "visibility": null,
            "width": null
          }
        },
        "e9700997e421471c988c0cfa43710fd7": {
          "model_module": "@jupyter-widgets/base",
          "model_name": "LayoutModel",
          "model_module_version": "1.2.0",
          "state": {
            "_model_module": "@jupyter-widgets/base",
            "_model_module_version": "1.2.0",
            "_model_name": "LayoutModel",
            "_view_count": null,
            "_view_module": "@jupyter-widgets/base",
            "_view_module_version": "1.2.0",
            "_view_name": "LayoutView",
            "align_content": null,
            "align_items": null,
            "align_self": null,
            "border": null,
            "bottom": null,
            "display": null,
            "flex": null,
            "flex_flow": null,
            "grid_area": null,
            "grid_auto_columns": null,
            "grid_auto_flow": null,
            "grid_auto_rows": null,
            "grid_column": null,
            "grid_gap": null,
            "grid_row": null,
            "grid_template_areas": null,
            "grid_template_columns": null,
            "grid_template_rows": null,
            "height": null,
            "justify_content": null,
            "justify_items": null,
            "left": null,
            "margin": null,
            "max_height": null,
            "max_width": null,
            "min_height": null,
            "min_width": null,
            "object_fit": null,
            "object_position": null,
            "order": null,
            "overflow": null,
            "overflow_x": null,
            "overflow_y": null,
            "padding": null,
            "right": null,
            "top": null,
            "visibility": null,
            "width": null
          }
        },
        "23c3bda36fb346dbb3fd2b84538d1282": {
          "model_module": "@jupyter-widgets/controls",
          "model_name": "DescriptionStyleModel",
          "model_module_version": "1.5.0",
          "state": {
            "_model_module": "@jupyter-widgets/controls",
            "_model_module_version": "1.5.0",
            "_model_name": "DescriptionStyleModel",
            "_view_count": null,
            "_view_module": "@jupyter-widgets/base",
            "_view_module_version": "1.2.0",
            "_view_name": "StyleView",
            "description_width": ""
          }
        },
        "5d6ff94273e74df99aceaef9e60e78c5": {
          "model_module": "@jupyter-widgets/base",
          "model_name": "LayoutModel",
          "model_module_version": "1.2.0",
          "state": {
            "_model_module": "@jupyter-widgets/base",
            "_model_module_version": "1.2.0",
            "_model_name": "LayoutModel",
            "_view_count": null,
            "_view_module": "@jupyter-widgets/base",
            "_view_module_version": "1.2.0",
            "_view_name": "LayoutView",
            "align_content": null,
            "align_items": null,
            "align_self": null,
            "border": null,
            "bottom": null,
            "display": null,
            "flex": null,
            "flex_flow": null,
            "grid_area": null,
            "grid_auto_columns": null,
            "grid_auto_flow": null,
            "grid_auto_rows": null,
            "grid_column": null,
            "grid_gap": null,
            "grid_row": null,
            "grid_template_areas": null,
            "grid_template_columns": null,
            "grid_template_rows": null,
            "height": null,
            "justify_content": null,
            "justify_items": null,
            "left": null,
            "margin": null,
            "max_height": null,
            "max_width": null,
            "min_height": null,
            "min_width": null,
            "object_fit": null,
            "object_position": null,
            "order": null,
            "overflow": null,
            "overflow_x": null,
            "overflow_y": null,
            "padding": null,
            "right": null,
            "top": null,
            "visibility": null,
            "width": null
          }
        },
        "1db7e1d007a84c78afba5d71eaec9c3e": {
          "model_module": "@jupyter-widgets/controls",
          "model_name": "ProgressStyleModel",
          "model_module_version": "1.5.0",
          "state": {
            "_model_module": "@jupyter-widgets/controls",
            "_model_module_version": "1.5.0",
            "_model_name": "ProgressStyleModel",
            "_view_count": null,
            "_view_module": "@jupyter-widgets/base",
            "_view_module_version": "1.2.0",
            "_view_name": "StyleView",
            "bar_color": null,
            "description_width": ""
          }
        },
        "4698353cbeeb4e728f320dc8b287edcf": {
          "model_module": "@jupyter-widgets/base",
          "model_name": "LayoutModel",
          "model_module_version": "1.2.0",
          "state": {
            "_model_module": "@jupyter-widgets/base",
            "_model_module_version": "1.2.0",
            "_model_name": "LayoutModel",
            "_view_count": null,
            "_view_module": "@jupyter-widgets/base",
            "_view_module_version": "1.2.0",
            "_view_name": "LayoutView",
            "align_content": null,
            "align_items": null,
            "align_self": null,
            "border": null,
            "bottom": null,
            "display": null,
            "flex": null,
            "flex_flow": null,
            "grid_area": null,
            "grid_auto_columns": null,
            "grid_auto_flow": null,
            "grid_auto_rows": null,
            "grid_column": null,
            "grid_gap": null,
            "grid_row": null,
            "grid_template_areas": null,
            "grid_template_columns": null,
            "grid_template_rows": null,
            "height": null,
            "justify_content": null,
            "justify_items": null,
            "left": null,
            "margin": null,
            "max_height": null,
            "max_width": null,
            "min_height": null,
            "min_width": null,
            "object_fit": null,
            "object_position": null,
            "order": null,
            "overflow": null,
            "overflow_x": null,
            "overflow_y": null,
            "padding": null,
            "right": null,
            "top": null,
            "visibility": null,
            "width": null
          }
        },
        "85f15218e8d34b69854c8e5d8bfb85f9": {
          "model_module": "@jupyter-widgets/controls",
          "model_name": "DescriptionStyleModel",
          "model_module_version": "1.5.0",
          "state": {
            "_model_module": "@jupyter-widgets/controls",
            "_model_module_version": "1.5.0",
            "_model_name": "DescriptionStyleModel",
            "_view_count": null,
            "_view_module": "@jupyter-widgets/base",
            "_view_module_version": "1.2.0",
            "_view_name": "StyleView",
            "description_width": ""
          }
        },
        "aaf943447d6348ac82d88b80033e67e0": {
          "model_module": "@jupyter-widgets/controls",
          "model_name": "HBoxModel",
          "model_module_version": "1.5.0",
          "state": {
            "_dom_classes": [],
            "_model_module": "@jupyter-widgets/controls",
            "_model_module_version": "1.5.0",
            "_model_name": "HBoxModel",
            "_view_count": null,
            "_view_module": "@jupyter-widgets/controls",
            "_view_module_version": "1.5.0",
            "_view_name": "HBoxView",
            "box_style": "",
            "children": [
              "IPY_MODEL_0280cdb4be774eabbb6ef7fbda1b5c87",
              "IPY_MODEL_4ce62c089d914303b1af598320a12d0a",
              "IPY_MODEL_7ceb0b3fe2a34ac6a5911d11f3868f35"
            ],
            "layout": "IPY_MODEL_c8e35771b35e405086857b1b5fa21911"
          }
        },
        "0280cdb4be774eabbb6ef7fbda1b5c87": {
          "model_module": "@jupyter-widgets/controls",
          "model_name": "HTMLModel",
          "model_module_version": "1.5.0",
          "state": {
            "_dom_classes": [],
            "_model_module": "@jupyter-widgets/controls",
            "_model_module_version": "1.5.0",
            "_model_name": "HTMLModel",
            "_view_count": null,
            "_view_module": "@jupyter-widgets/controls",
            "_view_module_version": "1.5.0",
            "_view_name": "HTMLView",
            "description": "",
            "description_tooltip": null,
            "layout": "IPY_MODEL_d4d6d79bf7d0488cb3a74f36ed548a39",
            "placeholder": "​",
            "style": "IPY_MODEL_ca9b0ab89543474eb74d39ff22b4580a",
            "value": "100%"
          }
        },
        "4ce62c089d914303b1af598320a12d0a": {
          "model_module": "@jupyter-widgets/controls",
          "model_name": "FloatProgressModel",
          "model_module_version": "1.5.0",
          "state": {
            "_dom_classes": [],
            "_model_module": "@jupyter-widgets/controls",
            "_model_module_version": "1.5.0",
            "_model_name": "FloatProgressModel",
            "_view_count": null,
            "_view_module": "@jupyter-widgets/controls",
            "_view_module_version": "1.5.0",
            "_view_name": "ProgressView",
            "bar_style": "success",
            "description": "",
            "description_tooltip": null,
            "layout": "IPY_MODEL_c8eac5831a92451dae9591daea32b3f2",
            "max": 4217,
            "min": 0,
            "orientation": "horizontal",
            "style": "IPY_MODEL_baea53fce61f46fcbe74cb6c81618d4c",
            "value": 4217
          }
        },
        "7ceb0b3fe2a34ac6a5911d11f3868f35": {
          "model_module": "@jupyter-widgets/controls",
          "model_name": "HTMLModel",
          "model_module_version": "1.5.0",
          "state": {
            "_dom_classes": [],
            "_model_module": "@jupyter-widgets/controls",
            "_model_module_version": "1.5.0",
            "_model_name": "HTMLModel",
            "_view_count": null,
            "_view_module": "@jupyter-widgets/controls",
            "_view_module_version": "1.5.0",
            "_view_name": "HTMLView",
            "description": "",
            "description_tooltip": null,
            "layout": "IPY_MODEL_a03a80a596c24d5ca824ac155208457a",
            "placeholder": "​",
            "style": "IPY_MODEL_a4eadf65d39d44b7b2390110c7c91f94",
            "value": " 4217/4217 [00:01&lt;00:00, 3974.98it/s]"
          }
        },
        "c8e35771b35e405086857b1b5fa21911": {
          "model_module": "@jupyter-widgets/base",
          "model_name": "LayoutModel",
          "model_module_version": "1.2.0",
          "state": {
            "_model_module": "@jupyter-widgets/base",
            "_model_module_version": "1.2.0",
            "_model_name": "LayoutModel",
            "_view_count": null,
            "_view_module": "@jupyter-widgets/base",
            "_view_module_version": "1.2.0",
            "_view_name": "LayoutView",
            "align_content": null,
            "align_items": null,
            "align_self": null,
            "border": null,
            "bottom": null,
            "display": null,
            "flex": null,
            "flex_flow": null,
            "grid_area": null,
            "grid_auto_columns": null,
            "grid_auto_flow": null,
            "grid_auto_rows": null,
            "grid_column": null,
            "grid_gap": null,
            "grid_row": null,
            "grid_template_areas": null,
            "grid_template_columns": null,
            "grid_template_rows": null,
            "height": null,
            "justify_content": null,
            "justify_items": null,
            "left": null,
            "margin": null,
            "max_height": null,
            "max_width": null,
            "min_height": null,
            "min_width": null,
            "object_fit": null,
            "object_position": null,
            "order": null,
            "overflow": null,
            "overflow_x": null,
            "overflow_y": null,
            "padding": null,
            "right": null,
            "top": null,
            "visibility": null,
            "width": null
          }
        },
        "d4d6d79bf7d0488cb3a74f36ed548a39": {
          "model_module": "@jupyter-widgets/base",
          "model_name": "LayoutModel",
          "model_module_version": "1.2.0",
          "state": {
            "_model_module": "@jupyter-widgets/base",
            "_model_module_version": "1.2.0",
            "_model_name": "LayoutModel",
            "_view_count": null,
            "_view_module": "@jupyter-widgets/base",
            "_view_module_version": "1.2.0",
            "_view_name": "LayoutView",
            "align_content": null,
            "align_items": null,
            "align_self": null,
            "border": null,
            "bottom": null,
            "display": null,
            "flex": null,
            "flex_flow": null,
            "grid_area": null,
            "grid_auto_columns": null,
            "grid_auto_flow": null,
            "grid_auto_rows": null,
            "grid_column": null,
            "grid_gap": null,
            "grid_row": null,
            "grid_template_areas": null,
            "grid_template_columns": null,
            "grid_template_rows": null,
            "height": null,
            "justify_content": null,
            "justify_items": null,
            "left": null,
            "margin": null,
            "max_height": null,
            "max_width": null,
            "min_height": null,
            "min_width": null,
            "object_fit": null,
            "object_position": null,
            "order": null,
            "overflow": null,
            "overflow_x": null,
            "overflow_y": null,
            "padding": null,
            "right": null,
            "top": null,
            "visibility": null,
            "width": null
          }
        },
        "ca9b0ab89543474eb74d39ff22b4580a": {
          "model_module": "@jupyter-widgets/controls",
          "model_name": "DescriptionStyleModel",
          "model_module_version": "1.5.0",
          "state": {
            "_model_module": "@jupyter-widgets/controls",
            "_model_module_version": "1.5.0",
            "_model_name": "DescriptionStyleModel",
            "_view_count": null,
            "_view_module": "@jupyter-widgets/base",
            "_view_module_version": "1.2.0",
            "_view_name": "StyleView",
            "description_width": ""
          }
        },
        "c8eac5831a92451dae9591daea32b3f2": {
          "model_module": "@jupyter-widgets/base",
          "model_name": "LayoutModel",
          "model_module_version": "1.2.0",
          "state": {
            "_model_module": "@jupyter-widgets/base",
            "_model_module_version": "1.2.0",
            "_model_name": "LayoutModel",
            "_view_count": null,
            "_view_module": "@jupyter-widgets/base",
            "_view_module_version": "1.2.0",
            "_view_name": "LayoutView",
            "align_content": null,
            "align_items": null,
            "align_self": null,
            "border": null,
            "bottom": null,
            "display": null,
            "flex": null,
            "flex_flow": null,
            "grid_area": null,
            "grid_auto_columns": null,
            "grid_auto_flow": null,
            "grid_auto_rows": null,
            "grid_column": null,
            "grid_gap": null,
            "grid_row": null,
            "grid_template_areas": null,
            "grid_template_columns": null,
            "grid_template_rows": null,
            "height": null,
            "justify_content": null,
            "justify_items": null,
            "left": null,
            "margin": null,
            "max_height": null,
            "max_width": null,
            "min_height": null,
            "min_width": null,
            "object_fit": null,
            "object_position": null,
            "order": null,
            "overflow": null,
            "overflow_x": null,
            "overflow_y": null,
            "padding": null,
            "right": null,
            "top": null,
            "visibility": null,
            "width": null
          }
        },
        "baea53fce61f46fcbe74cb6c81618d4c": {
          "model_module": "@jupyter-widgets/controls",
          "model_name": "ProgressStyleModel",
          "model_module_version": "1.5.0",
          "state": {
            "_model_module": "@jupyter-widgets/controls",
            "_model_module_version": "1.5.0",
            "_model_name": "ProgressStyleModel",
            "_view_count": null,
            "_view_module": "@jupyter-widgets/base",
            "_view_module_version": "1.2.0",
            "_view_name": "StyleView",
            "bar_color": null,
            "description_width": ""
          }
        },
        "a03a80a596c24d5ca824ac155208457a": {
          "model_module": "@jupyter-widgets/base",
          "model_name": "LayoutModel",
          "model_module_version": "1.2.0",
          "state": {
            "_model_module": "@jupyter-widgets/base",
            "_model_module_version": "1.2.0",
            "_model_name": "LayoutModel",
            "_view_count": null,
            "_view_module": "@jupyter-widgets/base",
            "_view_module_version": "1.2.0",
            "_view_name": "LayoutView",
            "align_content": null,
            "align_items": null,
            "align_self": null,
            "border": null,
            "bottom": null,
            "display": null,
            "flex": null,
            "flex_flow": null,
            "grid_area": null,
            "grid_auto_columns": null,
            "grid_auto_flow": null,
            "grid_auto_rows": null,
            "grid_column": null,
            "grid_gap": null,
            "grid_row": null,
            "grid_template_areas": null,
            "grid_template_columns": null,
            "grid_template_rows": null,
            "height": null,
            "justify_content": null,
            "justify_items": null,
            "left": null,
            "margin": null,
            "max_height": null,
            "max_width": null,
            "min_height": null,
            "min_width": null,
            "object_fit": null,
            "object_position": null,
            "order": null,
            "overflow": null,
            "overflow_x": null,
            "overflow_y": null,
            "padding": null,
            "right": null,
            "top": null,
            "visibility": null,
            "width": null
          }
        },
        "a4eadf65d39d44b7b2390110c7c91f94": {
          "model_module": "@jupyter-widgets/controls",
          "model_name": "DescriptionStyleModel",
          "model_module_version": "1.5.0",
          "state": {
            "_model_module": "@jupyter-widgets/controls",
            "_model_module_version": "1.5.0",
            "_model_name": "DescriptionStyleModel",
            "_view_count": null,
            "_view_module": "@jupyter-widgets/base",
            "_view_module_version": "1.2.0",
            "_view_name": "StyleView",
            "description_width": ""
          }
        }
      }
    }
  },
  "cells": [
    {
      "cell_type": "markdown",
      "source": [
        "##Assignment II - NLP: Seinfeld or Friends\n",
        "\n",
        "Team members: Guy Maoz, Itay Shnaider & Asaf Biniamini"
      ],
      "metadata": {
        "id": "-Ag3VHDiANOz"
      }
    },
    {
      "cell_type": "code",
      "execution_count": null,
      "metadata": {
        "id": "icyQc0gPYJPT"
      },
      "outputs": [],
      "source": [
        "import pandas as pd\n",
        "import re\n",
        "import matplotlib.pyplot as plt\n",
        "import seaborn as sns\n",
        "from tensorflow.keras.models import Sequential\n",
        "from tensorflow.keras.layers import Embedding, GlobalMaxPooling1D, Dense, Dropout, Conv1D, Flatten\n",
        "from tensorflow.keras.regularizers import l2\n",
        "from tensorflow.keras.callbacks import EarlyStopping, ReduceLROnPlateau\n",
        "from sklearn.utils import resample\n",
        "from sklearn.preprocessing import LabelEncoder\n",
        "from sklearn.model_selection import train_test_split\n",
        "from tensorflow.keras.preprocessing.text import Tokenizer\n",
        "from tensorflow.keras.preprocessing.sequence import pad_sequences\n",
        "import nltk\n",
        "from nltk.tokenize.toktok import ToktokTokenizer\n",
        "from tqdm.notebook import tqdm\n",
        "from sklearn.metrics import accuracy_score, precision_score, recall_score, f1_score\n",
        "import numpy as np\n"
      ]
    },
    {
      "cell_type": "markdown",
      "source": [
        "# Import the data"
      ],
      "metadata": {
        "id": "Jp9EU20jDztE"
      }
    },
    {
      "cell_type": "code",
      "source": [
        "# Load the dataset\n",
        "train_df = pd.read_csv('https://raw.githubusercontent.com/odedovadia/AdvancedMLDLCourse/main/Assignments/Assignment%20II%20-%20NLP/train.csv')\n",
        "test_df = pd.read_csv('https://raw.githubusercontent.com/odedovadia/AdvancedMLDLCourse/main/Assignments/Assignment%20II%20-%20NLP/test.csv')\n",
        "\n",
        "# Display the first few rows to understand the data structure\n",
        "train_df.head()"
      ],
      "metadata": {
        "id": "Cs66Az0gD1tc",
        "colab": {
          "base_uri": "https://localhost:8080/",
          "height": 206
        },
        "outputId": "83da8ef3-350c-4060-fa3a-87e79b6533b9"
      },
      "execution_count": null,
      "outputs": [
        {
          "output_type": "execute_result",
          "data": {
            "text/plain": [
              "                                            Dialogue Character  \\\n",
              "0                                               Hey.      joey   \n",
              "1   (to Joey) Are you gonna be embarrassed going ...    phoebe   \n",
              "2  Me? No no no, you. You're gonna tell him. I'm ...    elaine   \n",
              "3   Alright you guys are off to party number one ...  chandler   \n",
              "4  Am I? Or am I so sane that you just blew your ...    kramer   \n",
              "\n",
              "                                             Episode      Show  \\\n",
              "0     Season-07 Episode-13-The One Where Rosita Dies   Friends   \n",
              "1         Season-10 Episode-04-The One With The Cake   Friends   \n",
              "2                                             S03E22  Seinfeld   \n",
              "3  Season-02 Episode-22-The One With the Two Parties   Friends   \n",
              "4                                             S05E12  Seinfeld   \n",
              "\n",
              "   Dialogue_length  \n",
              "0                1  \n",
              "1               13  \n",
              "2               14  \n",
              "3               56  \n",
              "4               13  "
            ],
            "text/html": [
              "\n",
              "  <div id=\"df-6a44ac75-1234-43d3-b155-0dfb70f1f26d\" class=\"colab-df-container\">\n",
              "    <div>\n",
              "<style scoped>\n",
              "    .dataframe tbody tr th:only-of-type {\n",
              "        vertical-align: middle;\n",
              "    }\n",
              "\n",
              "    .dataframe tbody tr th {\n",
              "        vertical-align: top;\n",
              "    }\n",
              "\n",
              "    .dataframe thead th {\n",
              "        text-align: right;\n",
              "    }\n",
              "</style>\n",
              "<table border=\"1\" class=\"dataframe\">\n",
              "  <thead>\n",
              "    <tr style=\"text-align: right;\">\n",
              "      <th></th>\n",
              "      <th>Dialogue</th>\n",
              "      <th>Character</th>\n",
              "      <th>Episode</th>\n",
              "      <th>Show</th>\n",
              "      <th>Dialogue_length</th>\n",
              "    </tr>\n",
              "  </thead>\n",
              "  <tbody>\n",
              "    <tr>\n",
              "      <th>0</th>\n",
              "      <td>Hey.</td>\n",
              "      <td>joey</td>\n",
              "      <td>Season-07 Episode-13-The One Where Rosita Dies</td>\n",
              "      <td>Friends</td>\n",
              "      <td>1</td>\n",
              "    </tr>\n",
              "    <tr>\n",
              "      <th>1</th>\n",
              "      <td>(to Joey) Are you gonna be embarrassed going ...</td>\n",
              "      <td>phoebe</td>\n",
              "      <td>Season-10 Episode-04-The One With The Cake</td>\n",
              "      <td>Friends</td>\n",
              "      <td>13</td>\n",
              "    </tr>\n",
              "    <tr>\n",
              "      <th>2</th>\n",
              "      <td>Me? No no no, you. You're gonna tell him. I'm ...</td>\n",
              "      <td>elaine</td>\n",
              "      <td>S03E22</td>\n",
              "      <td>Seinfeld</td>\n",
              "      <td>14</td>\n",
              "    </tr>\n",
              "    <tr>\n",
              "      <th>3</th>\n",
              "      <td>Alright you guys are off to party number one ...</td>\n",
              "      <td>chandler</td>\n",
              "      <td>Season-02 Episode-22-The One With the Two Parties</td>\n",
              "      <td>Friends</td>\n",
              "      <td>56</td>\n",
              "    </tr>\n",
              "    <tr>\n",
              "      <th>4</th>\n",
              "      <td>Am I? Or am I so sane that you just blew your ...</td>\n",
              "      <td>kramer</td>\n",
              "      <td>S05E12</td>\n",
              "      <td>Seinfeld</td>\n",
              "      <td>13</td>\n",
              "    </tr>\n",
              "  </tbody>\n",
              "</table>\n",
              "</div>\n",
              "    <div class=\"colab-df-buttons\">\n",
              "\n",
              "  <div class=\"colab-df-container\">\n",
              "    <button class=\"colab-df-convert\" onclick=\"convertToInteractive('df-6a44ac75-1234-43d3-b155-0dfb70f1f26d')\"\n",
              "            title=\"Convert this dataframe to an interactive table.\"\n",
              "            style=\"display:none;\">\n",
              "\n",
              "  <svg xmlns=\"http://www.w3.org/2000/svg\" height=\"24px\" viewBox=\"0 -960 960 960\">\n",
              "    <path d=\"M120-120v-720h720v720H120Zm60-500h600v-160H180v160Zm220 220h160v-160H400v160Zm0 220h160v-160H400v160ZM180-400h160v-160H180v160Zm440 0h160v-160H620v160ZM180-180h160v-160H180v160Zm440 0h160v-160H620v160Z\"/>\n",
              "  </svg>\n",
              "    </button>\n",
              "\n",
              "  <style>\n",
              "    .colab-df-container {\n",
              "      display:flex;\n",
              "      gap: 12px;\n",
              "    }\n",
              "\n",
              "    .colab-df-convert {\n",
              "      background-color: #E8F0FE;\n",
              "      border: none;\n",
              "      border-radius: 50%;\n",
              "      cursor: pointer;\n",
              "      display: none;\n",
              "      fill: #1967D2;\n",
              "      height: 32px;\n",
              "      padding: 0 0 0 0;\n",
              "      width: 32px;\n",
              "    }\n",
              "\n",
              "    .colab-df-convert:hover {\n",
              "      background-color: #E2EBFA;\n",
              "      box-shadow: 0px 1px 2px rgba(60, 64, 67, 0.3), 0px 1px 3px 1px rgba(60, 64, 67, 0.15);\n",
              "      fill: #174EA6;\n",
              "    }\n",
              "\n",
              "    .colab-df-buttons div {\n",
              "      margin-bottom: 4px;\n",
              "    }\n",
              "\n",
              "    [theme=dark] .colab-df-convert {\n",
              "      background-color: #3B4455;\n",
              "      fill: #D2E3FC;\n",
              "    }\n",
              "\n",
              "    [theme=dark] .colab-df-convert:hover {\n",
              "      background-color: #434B5C;\n",
              "      box-shadow: 0px 1px 3px 1px rgba(0, 0, 0, 0.15);\n",
              "      filter: drop-shadow(0px 1px 2px rgba(0, 0, 0, 0.3));\n",
              "      fill: #FFFFFF;\n",
              "    }\n",
              "  </style>\n",
              "\n",
              "    <script>\n",
              "      const buttonEl =\n",
              "        document.querySelector('#df-6a44ac75-1234-43d3-b155-0dfb70f1f26d button.colab-df-convert');\n",
              "      buttonEl.style.display =\n",
              "        google.colab.kernel.accessAllowed ? 'block' : 'none';\n",
              "\n",
              "      async function convertToInteractive(key) {\n",
              "        const element = document.querySelector('#df-6a44ac75-1234-43d3-b155-0dfb70f1f26d');\n",
              "        const dataTable =\n",
              "          await google.colab.kernel.invokeFunction('convertToInteractive',\n",
              "                                                    [key], {});\n",
              "        if (!dataTable) return;\n",
              "\n",
              "        const docLinkHtml = 'Like what you see? Visit the ' +\n",
              "          '<a target=\"_blank\" href=https://colab.research.google.com/notebooks/data_table.ipynb>data table notebook</a>'\n",
              "          + ' to learn more about interactive tables.';\n",
              "        element.innerHTML = '';\n",
              "        dataTable['output_type'] = 'display_data';\n",
              "        await google.colab.output.renderOutput(dataTable, element);\n",
              "        const docLink = document.createElement('div');\n",
              "        docLink.innerHTML = docLinkHtml;\n",
              "        element.appendChild(docLink);\n",
              "      }\n",
              "    </script>\n",
              "  </div>\n",
              "\n",
              "\n",
              "<div id=\"df-4c9e386f-3c2b-430d-9e6d-a1b71a3f16e1\">\n",
              "  <button class=\"colab-df-quickchart\" onclick=\"quickchart('df-4c9e386f-3c2b-430d-9e6d-a1b71a3f16e1')\"\n",
              "            title=\"Suggest charts\"\n",
              "            style=\"display:none;\">\n",
              "\n",
              "<svg xmlns=\"http://www.w3.org/2000/svg\" height=\"24px\"viewBox=\"0 0 24 24\"\n",
              "     width=\"24px\">\n",
              "    <g>\n",
              "        <path d=\"M19 3H5c-1.1 0-2 .9-2 2v14c0 1.1.9 2 2 2h14c1.1 0 2-.9 2-2V5c0-1.1-.9-2-2-2zM9 17H7v-7h2v7zm4 0h-2V7h2v10zm4 0h-2v-4h2v4z\"/>\n",
              "    </g>\n",
              "</svg>\n",
              "  </button>\n",
              "\n",
              "<style>\n",
              "  .colab-df-quickchart {\n",
              "      --bg-color: #E8F0FE;\n",
              "      --fill-color: #1967D2;\n",
              "      --hover-bg-color: #E2EBFA;\n",
              "      --hover-fill-color: #174EA6;\n",
              "      --disabled-fill-color: #AAA;\n",
              "      --disabled-bg-color: #DDD;\n",
              "  }\n",
              "\n",
              "  [theme=dark] .colab-df-quickchart {\n",
              "      --bg-color: #3B4455;\n",
              "      --fill-color: #D2E3FC;\n",
              "      --hover-bg-color: #434B5C;\n",
              "      --hover-fill-color: #FFFFFF;\n",
              "      --disabled-bg-color: #3B4455;\n",
              "      --disabled-fill-color: #666;\n",
              "  }\n",
              "\n",
              "  .colab-df-quickchart {\n",
              "    background-color: var(--bg-color);\n",
              "    border: none;\n",
              "    border-radius: 50%;\n",
              "    cursor: pointer;\n",
              "    display: none;\n",
              "    fill: var(--fill-color);\n",
              "    height: 32px;\n",
              "    padding: 0;\n",
              "    width: 32px;\n",
              "  }\n",
              "\n",
              "  .colab-df-quickchart:hover {\n",
              "    background-color: var(--hover-bg-color);\n",
              "    box-shadow: 0 1px 2px rgba(60, 64, 67, 0.3), 0 1px 3px 1px rgba(60, 64, 67, 0.15);\n",
              "    fill: var(--button-hover-fill-color);\n",
              "  }\n",
              "\n",
              "  .colab-df-quickchart-complete:disabled,\n",
              "  .colab-df-quickchart-complete:disabled:hover {\n",
              "    background-color: var(--disabled-bg-color);\n",
              "    fill: var(--disabled-fill-color);\n",
              "    box-shadow: none;\n",
              "  }\n",
              "\n",
              "  .colab-df-spinner {\n",
              "    border: 2px solid var(--fill-color);\n",
              "    border-color: transparent;\n",
              "    border-bottom-color: var(--fill-color);\n",
              "    animation:\n",
              "      spin 1s steps(1) infinite;\n",
              "  }\n",
              "\n",
              "  @keyframes spin {\n",
              "    0% {\n",
              "      border-color: transparent;\n",
              "      border-bottom-color: var(--fill-color);\n",
              "      border-left-color: var(--fill-color);\n",
              "    }\n",
              "    20% {\n",
              "      border-color: transparent;\n",
              "      border-left-color: var(--fill-color);\n",
              "      border-top-color: var(--fill-color);\n",
              "    }\n",
              "    30% {\n",
              "      border-color: transparent;\n",
              "      border-left-color: var(--fill-color);\n",
              "      border-top-color: var(--fill-color);\n",
              "      border-right-color: var(--fill-color);\n",
              "    }\n",
              "    40% {\n",
              "      border-color: transparent;\n",
              "      border-right-color: var(--fill-color);\n",
              "      border-top-color: var(--fill-color);\n",
              "    }\n",
              "    60% {\n",
              "      border-color: transparent;\n",
              "      border-right-color: var(--fill-color);\n",
              "    }\n",
              "    80% {\n",
              "      border-color: transparent;\n",
              "      border-right-color: var(--fill-color);\n",
              "      border-bottom-color: var(--fill-color);\n",
              "    }\n",
              "    90% {\n",
              "      border-color: transparent;\n",
              "      border-bottom-color: var(--fill-color);\n",
              "    }\n",
              "  }\n",
              "</style>\n",
              "\n",
              "  <script>\n",
              "    async function quickchart(key) {\n",
              "      const quickchartButtonEl =\n",
              "        document.querySelector('#' + key + ' button');\n",
              "      quickchartButtonEl.disabled = true;  // To prevent multiple clicks.\n",
              "      quickchartButtonEl.classList.add('colab-df-spinner');\n",
              "      try {\n",
              "        const charts = await google.colab.kernel.invokeFunction(\n",
              "            'suggestCharts', [key], {});\n",
              "      } catch (error) {\n",
              "        console.error('Error during call to suggestCharts:', error);\n",
              "      }\n",
              "      quickchartButtonEl.classList.remove('colab-df-spinner');\n",
              "      quickchartButtonEl.classList.add('colab-df-quickchart-complete');\n",
              "    }\n",
              "    (() => {\n",
              "      let quickchartButtonEl =\n",
              "        document.querySelector('#df-4c9e386f-3c2b-430d-9e6d-a1b71a3f16e1 button');\n",
              "      quickchartButtonEl.style.display =\n",
              "        google.colab.kernel.accessAllowed ? 'block' : 'none';\n",
              "    })();\n",
              "  </script>\n",
              "</div>\n",
              "    </div>\n",
              "  </div>\n"
            ],
            "application/vnd.google.colaboratory.intrinsic+json": {
              "type": "dataframe",
              "variable_name": "train_df",
              "summary": "{\n  \"name\": \"train_df\",\n  \"rows\": 70405,\n  \"fields\": [\n    {\n      \"column\": \"Dialogue\",\n      \"properties\": {\n        \"dtype\": \"string\",\n        \"num_unique_values\": 62770,\n        \"samples\": [\n          \" Naked alone time.\",\n          \" You know what, he's a big boy, I'm sure he'll find us, ok?\",\n          \" Sweetie, this conversation is starting to make me a little uncomfortable.\"\n        ],\n        \"semantic_type\": \"\",\n        \"description\": \"\"\n      }\n    },\n    {\n      \"column\": \"Character\",\n      \"properties\": {\n        \"dtype\": \"category\",\n        \"num_unique_values\": 10,\n        \"samples\": [\n          \"rachel\",\n          \"phoebe\",\n          \"monica\"\n        ],\n        \"semantic_type\": \"\",\n        \"description\": \"\"\n      }\n    },\n    {\n      \"column\": \"Episode\",\n      \"properties\": {\n        \"dtype\": \"category\",\n        \"num_unique_values\": 398,\n        \"samples\": [\n          \"Season-09 Episode-18-The One With The Lottery\",\n          \"Season-02 Episode-02-The One With the Breast Milk\",\n          \"Season-01 Episode-01-The One Where Monica Gets a New Roommate (The Pilot)\"\n        ],\n        \"semantic_type\": \"\",\n        \"description\": \"\"\n      }\n    },\n    {\n      \"column\": \"Show\",\n      \"properties\": {\n        \"dtype\": \"category\",\n        \"num_unique_values\": 2,\n        \"samples\": [\n          \"Seinfeld\",\n          \"Friends\"\n        ],\n        \"semantic_type\": \"\",\n        \"description\": \"\"\n      }\n    },\n    {\n      \"column\": \"Dialogue_length\",\n      \"properties\": {\n        \"dtype\": \"number\",\n        \"std\": 12,\n        \"min\": 1,\n        \"max\": 363,\n        \"num_unique_values\": 163,\n        \"samples\": [\n          182,\n          154\n        ],\n        \"semantic_type\": \"\",\n        \"description\": \"\"\n      }\n    }\n  ]\n}"
            }
          },
          "metadata": {},
          "execution_count": 2
        }
      ]
    },
    {
      "cell_type": "markdown",
      "source": [
        "# Explorization"
      ],
      "metadata": {
        "id": "gVUulwe-D3Lu"
      }
    },
    {
      "cell_type": "code",
      "source": [
        "# Basic EDA\n",
        "eda_summary = {\n",
        "    'total_entries': train_df.shape[0],\n",
        "    'missing_values': train_df.isnull().sum(),\n",
        "    'unique_characters': train_df['Character'].nunique(),\n",
        "    'unique_episodes': train_df['Episode'].nunique(),\n",
        "    'show_distribution': train_df['Show'].value_counts(),\n",
        "    'average_dialogue_length': train_df['Dialogue_length'].mean(),\n",
        "    'median_dialogue_length': train_df['Dialogue_length'].median(),\n",
        "    'max_dialogue_length': train_df['Dialogue_length'].max(),\n",
        "    'min_dialogue_length': train_df['Dialogue_length'].min()\n",
        "}\n",
        "\n",
        "eda_summary\n"
      ],
      "metadata": {
        "id": "8a18AwYQYsfC",
        "colab": {
          "base_uri": "https://localhost:8080/"
        },
        "outputId": "dfc9435d-57e9-4189-ecb5-43d3f97a87e8"
      },
      "execution_count": null,
      "outputs": [
        {
          "output_type": "execute_result",
          "data": {
            "text/plain": [
              "{'total_entries': 70405,\n",
              " 'missing_values': Dialogue           0\n",
              " Character          0\n",
              " Episode            0\n",
              " Show               0\n",
              " Dialogue_length    0\n",
              " dtype: int64,\n",
              " 'unique_characters': 10,\n",
              " 'unique_episodes': 398,\n",
              " 'show_distribution': Friends     39092\n",
              " Seinfeld    31313\n",
              " Name: Show, dtype: int64,\n",
              " 'average_dialogue_length': 11.002130530502095,\n",
              " 'median_dialogue_length': 8.0,\n",
              " 'max_dialogue_length': 363,\n",
              " 'min_dialogue_length': 1}"
            ]
          },
          "metadata": {},
          "execution_count": 3
        }
      ]
    },
    {
      "cell_type": "markdown",
      "source": [
        "The dataset contains:\n",
        "\n",
        "\n",
        "\n",
        "*  70,405 total entries with no missing values across all columns.\n",
        "*  10 unique characters have been identified in the dataset.\n",
        "*  Dialogues are spread across 398 unique episodes.\n",
        "*  The distribution of dialogues between the shows is 39,092 for Friends and 31,313 for Seinfeld.\n",
        "*   The average length of dialogue is approximately 11 words, with a median length of 8 words. This indicates that the majority of dialogues are quite short, but there are longer dialogues that increase the average.\n",
        "*   The longest dialogue consists of 363 words, and the shortest consists of just 1 word.\n",
        "\n",
        "\n",
        "\n",
        "\n",
        "\n",
        "\n",
        "\n"
      ],
      "metadata": {
        "id": "01zckXKjZZuc"
      }
    },
    {
      "cell_type": "markdown",
      "source": [
        "Now, let's visualize the distribution of dialogue lengths and the number of dialogues per character to gain further insights. This will help us understand if any preprocessing steps such as removing outliers or balancing the dataset might be necessary."
      ],
      "metadata": {
        "id": "W3XFLJ_DaSNX"
      }
    },
    {
      "cell_type": "code",
      "source": [
        "sns.set_style(\"whitegrid\")\n",
        "\n",
        "# Distribution of dialogue lengths\n",
        "plt.figure(figsize=[15,5])\n",
        "plt.subplot(1,2,1)\n",
        "sns.histplot(train_df['Dialogue_length'], bins=50, kde=True, color='skyblue')  # Added color\n",
        "plt.title('Distribution of Dialogue Lengths')\n",
        "plt.xlabel('Dialogue Length')\n",
        "plt.ylabel('Frequency')\n",
        "\n",
        "# Number of dialogues per character\n",
        "plt.subplot(1,2,2)\n",
        "colors = sns.color_palette('Spectral', n_colors=train_df['Show'].nunique())\n",
        "\n",
        "show_colors = {show: colors[i] for i, show in enumerate(train_df['Show'].unique())}\n",
        "\n",
        "character_show_df = train_df.groupby(['Character', 'Show']).size().reset_index(name='counts')\n",
        "character_show_df_sorted = character_show_df.sort_values('counts', ascending=False)\n",
        "\n",
        "\n",
        "sns.barplot(x='Character', y='counts', hue='Show', data=character_show_df_sorted,\n",
        "            palette=show_colors)\n",
        "plt.title('Number of Dialogues per Character')\n",
        "plt.xlabel('Character')\n",
        "plt.ylabel('Number of Dialogues')\n",
        "plt.xticks(rotation=45)\n",
        "plt.tight_layout()\n",
        "plt.show()\n"
      ],
      "metadata": {
        "id": "X6HNAQJ9cQUa",
        "colab": {
          "base_uri": "https://localhost:8080/",
          "height": 404
        },
        "outputId": "b47a1af6-06d3-4ab6-c730-da6e0172449b"
      },
      "execution_count": null,
      "outputs": [
        {
          "output_type": "display_data",
          "data": {
            "text/plain": [
              "<Figure size 1500x500 with 2 Axes>"
            ],
            "image/png": "[encoded data removed]"
          },
          "metadata": {}
        }
      ]
    },
    {
      "cell_type": "markdown",
      "source": [
        "The left graph shows the distribution of dialogue lengths across all episodes. Most dialogues are relatively short, with lengths clustering around the lower end of the scale. However, there's a long tail indicating some very long dialogues.\n",
        "\n",
        "The right graph illustrates the number of dialogues per character. This indicates how frequently each character speaks within the dataset. The distribution seems varied among characters, suggesting that some characters speak more often than others, which could influence the model's learning if not addressed properly."
      ],
      "metadata": {
        "id": "qhuh7QJ2aZxM"
      }
    },
    {
      "cell_type": "markdown",
      "source": [
        "# Pre Processing"
      ],
      "metadata": {
        "id": "xgumQ-nZEGLI"
      }
    },
    {
      "cell_type": "markdown",
      "source": [
        "Let's start with the first step, text cleaning: We will clean the 'Dialogue' text by removing special characters, numbers, and unnecessary punctuation. This step aims to standardize the text, making it easier for the model to learn from it."
      ],
      "metadata": {
        "id": "261lwrHueXNT"
      }
    },
    {
      "cell_type": "markdown",
      "source": [
        "## Cleaning text"
      ],
      "metadata": {
        "id": "AJcGgJSaExdn"
      }
    },
    {
      "cell_type": "code",
      "source": [
        "# Function to clean the dialogue text\n",
        "def pre_process_clean_text(text):\n",
        "    # Remove special characters and numbers\n",
        "    text = re.sub(r'[^A-Za-z\\s]', '', text)\n",
        "    # Convert to lowercase to maintain consistency\n",
        "    text = text.lower().strip()\n",
        "    return text\n",
        "\n",
        "# Apply the cleaning function to the Dialogue column\n",
        "train_df['Cleaned_Dialogue'] = train_df['Dialogue'].apply(pre_process_clean_text)\n",
        "\n",
        "# Display the first few rows to verify the cleaning\n",
        "train_df[['Dialogue', 'Cleaned_Dialogue']].head()\n"
      ],
      "metadata": {
        "id": "LNuGQo5PeKGR",
        "colab": {
          "base_uri": "https://localhost:8080/",
          "height": 206
        },
        "outputId": "a7789a1b-5ca2-434d-dec8-9d0420895724"
      },
      "execution_count": null,
      "outputs": [
        {
          "output_type": "execute_result",
          "data": {
            "text/plain": [
              "                                            Dialogue  \\\n",
              "0                                               Hey.   \n",
              "1   (to Joey) Are you gonna be embarrassed going ...   \n",
              "2  Me? No no no, you. You're gonna tell him. I'm ...   \n",
              "3   Alright you guys are off to party number one ...   \n",
              "4  Am I? Or am I so sane that you just blew your ...   \n",
              "\n",
              "                                    Cleaned_Dialogue  \n",
              "0                                                hey  \n",
              "1  to joey are you gonna be embarrassed going up ...  \n",
              "2  me no no no you youre gonna tell him im not go...  \n",
              "3  alright you guys are off to party number one u...  \n",
              "4  am i or am i so sane that you just blew your mind  "
            ],
            "text/html": [
              "\n",
              "  <div id=\"df-c3d01f42-9664-4bee-b207-780f1dd47c9f\" class=\"colab-df-container\">\n",
              "    <div>\n",
              "<style scoped>\n",
              "    .dataframe tbody tr th:only-of-type {\n",
              "        vertical-align: middle;\n",
              "    }\n",
              "\n",
              "    .dataframe tbody tr th {\n",
              "        vertical-align: top;\n",
              "    }\n",
              "\n",
              "    .dataframe thead th {\n",
              "        text-align: right;\n",
              "    }\n",
              "</style>\n",
              "<table border=\"1\" class=\"dataframe\">\n",
              "  <thead>\n",
              "    <tr style=\"text-align: right;\">\n",
              "      <th></th>\n",
              "      <th>Dialogue</th>\n",
              "      <th>Cleaned_Dialogue</th>\n",
              "    </tr>\n",
              "  </thead>\n",
              "  <tbody>\n",
              "    <tr>\n",
              "      <th>0</th>\n",
              "      <td>Hey.</td>\n",
              "      <td>hey</td>\n",
              "    </tr>\n",
              "    <tr>\n",
              "      <th>1</th>\n",
              "      <td>(to Joey) Are you gonna be embarrassed going ...</td>\n",
              "      <td>to joey are you gonna be embarrassed going up ...</td>\n",
              "    </tr>\n",
              "    <tr>\n",
              "      <th>2</th>\n",
              "      <td>Me? No no no, you. You're gonna tell him. I'm ...</td>\n",
              "      <td>me no no no you youre gonna tell him im not go...</td>\n",
              "    </tr>\n",
              "    <tr>\n",
              "      <th>3</th>\n",
              "      <td>Alright you guys are off to party number one ...</td>\n",
              "      <td>alright you guys are off to party number one u...</td>\n",
              "    </tr>\n",
              "    <tr>\n",
              "      <th>4</th>\n",
              "      <td>Am I? Or am I so sane that you just blew your ...</td>\n",
              "      <td>am i or am i so sane that you just blew your mind</td>\n",
              "    </tr>\n",
              "  </tbody>\n",
              "</table>\n",
              "</div>\n",
              "    <div class=\"colab-df-buttons\">\n",
              "\n",
              "  <div class=\"colab-df-container\">\n",
              "    <button class=\"colab-df-convert\" onclick=\"convertToInteractive('df-c3d01f42-9664-4bee-b207-780f1dd47c9f')\"\n",
              "            title=\"Convert this dataframe to an interactive table.\"\n",
              "            style=\"display:none;\">\n",
              "\n",
              "  <svg xmlns=\"http://www.w3.org/2000/svg\" height=\"24px\" viewBox=\"0 -960 960 960\">\n",
              "    <path d=\"M120-120v-720h720v720H120Zm60-500h600v-160H180v160Zm220 220h160v-160H400v160Zm0 220h160v-160H400v160ZM180-400h160v-160H180v160Zm440 0h160v-160H620v160ZM180-180h160v-160H180v160Zm440 0h160v-160H620v160Z\"/>\n",
              "  </svg>\n",
              "    </button>\n",
              "\n",
              "  <style>\n",
              "    .colab-df-container {\n",
              "      display:flex;\n",
              "      gap: 12px;\n",
              "    }\n",
              "\n",
              "    .colab-df-convert {\n",
              "      background-color: #E8F0FE;\n",
              "      border: none;\n",
              "      border-radius: 50%;\n",
              "      cursor: pointer;\n",
              "      display: none;\n",
              "      fill: #1967D2;\n",
              "      height: 32px;\n",
              "      padding: 0 0 0 0;\n",
              "      width: 32px;\n",
              "    }\n",
              "\n",
              "    .colab-df-convert:hover {\n",
              "      background-color: #E2EBFA;\n",
              "      box-shadow: 0px 1px 2px rgba(60, 64, 67, 0.3), 0px 1px 3px 1px rgba(60, 64, 67, 0.15);\n",
              "      fill: #174EA6;\n",
              "    }\n",
              "\n",
              "    .colab-df-buttons div {\n",
              "      margin-bottom: 4px;\n",
              "    }\n",
              "\n",
              "    [theme=dark] .colab-df-convert {\n",
              "      background-color: #3B4455;\n",
              "      fill: #D2E3FC;\n",
              "    }\n",
              "\n",
              "    [theme=dark] .colab-df-convert:hover {\n",
              "      background-color: #434B5C;\n",
              "      box-shadow: 0px 1px 3px 1px rgba(0, 0, 0, 0.15);\n",
              "      filter: drop-shadow(0px 1px 2px rgba(0, 0, 0, 0.3));\n",
              "      fill: #FFFFFF;\n",
              "    }\n",
              "  </style>\n",
              "\n",
              "    <script>\n",
              "      const buttonEl =\n",
              "        document.querySelector('#df-c3d01f42-9664-4bee-b207-780f1dd47c9f button.colab-df-convert');\n",
              "      buttonEl.style.display =\n",
              "        google.colab.kernel.accessAllowed ? 'block' : 'none';\n",
              "\n",
              "      async function convertToInteractive(key) {\n",
              "        const element = document.querySelector('#df-c3d01f42-9664-4bee-b207-780f1dd47c9f');\n",
              "        const dataTable =\n",
              "          await google.colab.kernel.invokeFunction('convertToInteractive',\n",
              "                                                    [key], {});\n",
              "        if (!dataTable) return;\n",
              "\n",
              "        const docLinkHtml = 'Like what you see? Visit the ' +\n",
              "          '<a target=\"_blank\" href=https://colab.research.google.com/notebooks/data_table.ipynb>data table notebook</a>'\n",
              "          + ' to learn more about interactive tables.';\n",
              "        element.innerHTML = '';\n",
              "        dataTable['output_type'] = 'display_data';\n",
              "        await google.colab.output.renderOutput(dataTable, element);\n",
              "        const docLink = document.createElement('div');\n",
              "        docLink.innerHTML = docLinkHtml;\n",
              "        element.appendChild(docLink);\n",
              "      }\n",
              "    </script>\n",
              "  </div>\n",
              "\n",
              "\n",
              "<div id=\"df-aec63afe-b57e-4cfd-94ae-0f46307245e7\">\n",
              "  <button class=\"colab-df-quickchart\" onclick=\"quickchart('df-aec63afe-b57e-4cfd-94ae-0f46307245e7')\"\n",
              "            title=\"Suggest charts\"\n",
              "            style=\"display:none;\">\n",
              "\n",
              "<svg xmlns=\"http://www.w3.org/2000/svg\" height=\"24px\"viewBox=\"0 0 24 24\"\n",
              "     width=\"24px\">\n",
              "    <g>\n",
              "        <path d=\"M19 3H5c-1.1 0-2 .9-2 2v14c0 1.1.9 2 2 2h14c1.1 0 2-.9 2-2V5c0-1.1-.9-2-2-2zM9 17H7v-7h2v7zm4 0h-2V7h2v10zm4 0h-2v-4h2v4z\"/>\n",
              "    </g>\n",
              "</svg>\n",
              "  </button>\n",
              "\n",
              "<style>\n",
              "  .colab-df-quickchart {\n",
              "      --bg-color: #E8F0FE;\n",
              "      --fill-color: #1967D2;\n",
              "      --hover-bg-color: #E2EBFA;\n",
              "      --hover-fill-color: #174EA6;\n",
              "      --disabled-fill-color: #AAA;\n",
              "      --disabled-bg-color: #DDD;\n",
              "  }\n",
              "\n",
              "  [theme=dark] .colab-df-quickchart {\n",
              "      --bg-color: #3B4455;\n",
              "      --fill-color: #D2E3FC;\n",
              "      --hover-bg-color: #434B5C;\n",
              "      --hover-fill-color: #FFFFFF;\n",
              "      --disabled-bg-color: #3B4455;\n",
              "      --disabled-fill-color: #666;\n",
              "  }\n",
              "\n",
              "  .colab-df-quickchart {\n",
              "    background-color: var(--bg-color);\n",
              "    border: none;\n",
              "    border-radius: 50%;\n",
              "    cursor: pointer;\n",
              "    display: none;\n",
              "    fill: var(--fill-color);\n",
              "    height: 32px;\n",
              "    padding: 0;\n",
              "    width: 32px;\n",
              "  }\n",
              "\n",
              "  .colab-df-quickchart:hover {\n",
              "    background-color: var(--hover-bg-color);\n",
              "    box-shadow: 0 1px 2px rgba(60, 64, 67, 0.3), 0 1px 3px 1px rgba(60, 64, 67, 0.15);\n",
              "    fill: var(--button-hover-fill-color);\n",
              "  }\n",
              "\n",
              "  .colab-df-quickchart-complete:disabled,\n",
              "  .colab-df-quickchart-complete:disabled:hover {\n",
              "    background-color: var(--disabled-bg-color);\n",
              "    fill: var(--disabled-fill-color);\n",
              "    box-shadow: none;\n",
              "  }\n",
              "\n",
              "  .colab-df-spinner {\n",
              "    border: 2px solid var(--fill-color);\n",
              "    border-color: transparent;\n",
              "    border-bottom-color: var(--fill-color);\n",
              "    animation:\n",
              "      spin 1s steps(1) infinite;\n",
              "  }\n",
              "\n",
              "  @keyframes spin {\n",
              "    0% {\n",
              "      border-color: transparent;\n",
              "      border-bottom-color: var(--fill-color);\n",
              "      border-left-color: var(--fill-color);\n",
              "    }\n",
              "    20% {\n",
              "      border-color: transparent;\n",
              "      border-left-color: var(--fill-color);\n",
              "      border-top-color: var(--fill-color);\n",
              "    }\n",
              "    30% {\n",
              "      border-color: transparent;\n",
              "      border-left-color: var(--fill-color);\n",
              "      border-top-color: var(--fill-color);\n",
              "      border-right-color: var(--fill-color);\n",
              "    }\n",
              "    40% {\n",
              "      border-color: transparent;\n",
              "      border-right-color: var(--fill-color);\n",
              "      border-top-color: var(--fill-color);\n",
              "    }\n",
              "    60% {\n",
              "      border-color: transparent;\n",
              "      border-right-color: var(--fill-color);\n",
              "    }\n",
              "    80% {\n",
              "      border-color: transparent;\n",
              "      border-right-color: var(--fill-color);\n",
              "      border-bottom-color: var(--fill-color);\n",
              "    }\n",
              "    90% {\n",
              "      border-color: transparent;\n",
              "      border-bottom-color: var(--fill-color);\n",
              "    }\n",
              "  }\n",
              "</style>\n",
              "\n",
              "  <script>\n",
              "    async function quickchart(key) {\n",
              "      const quickchartButtonEl =\n",
              "        document.querySelector('#' + key + ' button');\n",
              "      quickchartButtonEl.disabled = true;  // To prevent multiple clicks.\n",
              "      quickchartButtonEl.classList.add('colab-df-spinner');\n",
              "      try {\n",
              "        const charts = await google.colab.kernel.invokeFunction(\n",
              "            'suggestCharts', [key], {});\n",
              "      } catch (error) {\n",
              "        console.error('Error during call to suggestCharts:', error);\n",
              "      }\n",
              "      quickchartButtonEl.classList.remove('colab-df-spinner');\n",
              "      quickchartButtonEl.classList.add('colab-df-quickchart-complete');\n",
              "    }\n",
              "    (() => {\n",
              "      let quickchartButtonEl =\n",
              "        document.querySelector('#df-aec63afe-b57e-4cfd-94ae-0f46307245e7 button');\n",
              "      quickchartButtonEl.style.display =\n",
              "        google.colab.kernel.accessAllowed ? 'block' : 'none';\n",
              "    })();\n",
              "  </script>\n",
              "</div>\n",
              "    </div>\n",
              "  </div>\n"
            ],
            "application/vnd.google.colaboratory.intrinsic+json": {
              "type": "dataframe",
              "summary": "{\n  \"name\": \"train_df[['Dialogue', 'Cleaned_Dialogue']]\",\n  \"rows\": 5,\n  \"fields\": [\n    {\n      \"column\": \"Dialogue\",\n      \"properties\": {\n        \"dtype\": \"string\",\n        \"num_unique_values\": 5,\n        \"samples\": [\n          \" (to Joey) Are you gonna be embarrassed going up there having nothing prepared?\",\n          \"Am I? Or am I so sane that you just blew your mind?\",\n          \"Me? No no no, you. You're gonna tell him. I'm not gonna tell- Noo.\"\n        ],\n        \"semantic_type\": \"\",\n        \"description\": \"\"\n      }\n    },\n    {\n      \"column\": \"Cleaned_Dialogue\",\n      \"properties\": {\n        \"dtype\": \"string\",\n        \"num_unique_values\": 5,\n        \"samples\": [\n          \"to joey are you gonna be embarrassed going up there having nothing prepared\",\n          \"am i or am i so sane that you just blew your mind\",\n          \"me no no no you youre gonna tell him im not gonna tell noo\"\n        ],\n        \"semantic_type\": \"\",\n        \"description\": \"\"\n      }\n    }\n  ]\n}"
            }
          },
          "metadata": {},
          "execution_count": 5
        }
      ]
    },
    {
      "cell_type": "markdown",
      "source": [
        "In the displayed table, we observe the cleaned data post-implementation. For instance, in the first dialogue, brackets are removed. Dialogues 2 and 4 showcase the elimination of question marks. This preprocessing step aims to enhance the quality and uniformity of the text data for subsequent analysis or modeling. <br>\n",
        "Next, we'll address the outlier dialogues. Given the distribution we observed earlier, we'll remove dialogues longer than a 100 words.\n"
      ],
      "metadata": {
        "id": "UiqdW2wYez8n"
      }
    },
    {
      "cell_type": "markdown",
      "source": [
        "## Removing Outliers"
      ],
      "metadata": {
        "id": "cYDrEGDiEz_l"
      }
    },
    {
      "cell_type": "markdown",
      "source": [
        "\n",
        "Following initial data exploration, a dialogue length threshold of 100 words is established. Given that a substantial majority of dialogues fall below this threshold, we opt to remove outliers with lengths exceeding 100 words from the dataset. This step streamlines the data, ensuring a more consistent and manageable set for subsequent analysis."
      ],
      "metadata": {
        "id": "PdWZxRHgv2W5"
      }
    },
    {
      "cell_type": "code",
      "source": [
        "# Our threshold for outliers\n",
        "threshold = 100\n",
        "\n",
        "# Count the number of words in the cleaned dialogues\n",
        "train_df['Cleaned_Dialogue_Length'] = train_df['Cleaned_Dialogue'].apply(lambda x: len(x.split()))\n",
        "\n",
        "# Remove dialogues longer than the threshold\n",
        "filtered_df = train_df[train_df['Cleaned_Dialogue_Length'] <= threshold]\n",
        "\n",
        "# Compare the original and filtered dataset sizes\n",
        "original_size = train_df.shape[0]\n",
        "filtered_size = filtered_df.shape[0]\n",
        "outliers_removed = original_size - filtered_size\n",
        "\n",
        "original_size, filtered_size, outliers_removed\n"
      ],
      "metadata": {
        "id": "zs0GCgIHezs4",
        "colab": {
          "base_uri": "https://localhost:8080/"
        },
        "outputId": "b6ad851d-7a90-4b56-8e11-9fb51285ce8d"
      },
      "execution_count": null,
      "outputs": [
        {
          "output_type": "execute_result",
          "data": {
            "text/plain": [
              "(70405, 70289, 116)"
            ]
          },
          "metadata": {},
          "execution_count": 6
        }
      ]
    },
    {
      "cell_type": "markdown",
      "source": [
        "After removing dialogues longer than 100 words, the dataset size decreased from 70,405 to 70,289 entries, with 116 outliers removed. This step helps in mitigating the potential skew caused by unusually long dialogues."
      ],
      "metadata": {
        "id": "pn8-kZ5YfEXv"
      }
    },
    {
      "cell_type": "markdown",
      "source": [
        "## Removing Stop Words"
      ],
      "metadata": {
        "id": "dLKmmModE4Ee"
      }
    },
    {
      "cell_type": "markdown",
      "source": [
        "Let's see our example before removing the stop words"
      ],
      "metadata": {
        "id": "gg1zdkcQcqhr"
      }
    },
    {
      "cell_type": "code",
      "source": [
        "filtered_df.iloc[1,5]"
      ],
      "metadata": {
        "colab": {
          "base_uri": "https://localhost:8080/",
          "height": 36
        },
        "id": "OzXa_yRmccMi",
        "outputId": "c20742e2-34c8-4268-bb5d-a787ac6f09dd"
      },
      "execution_count": null,
      "outputs": [
        {
          "output_type": "execute_result",
          "data": {
            "text/plain": [
              "'to joey are you gonna be embarrassed going up there having nothing prepared'"
            ],
            "application/vnd.google.colaboratory.intrinsic+json": {
              "type": "string"
            }
          },
          "metadata": {},
          "execution_count": 7
        }
      ]
    },
    {
      "cell_type": "code",
      "source": [
        "nltk.download('stopwords')\n",
        "stopword_list = nltk.corpus.stopwords.words('english')"
      ],
      "metadata": {
        "id": "gEfS6A5TE6bg",
        "colab": {
          "base_uri": "https://localhost:8080/"
        },
        "outputId": "fcd2820a-b02e-4078-c0cd-100232b41245"
      },
      "execution_count": null,
      "outputs": [
        {
          "output_type": "stream",
          "name": "stderr",
          "text": [
            "[nltk_data] Downloading package stopwords to /root/nltk_data...\n",
            "[nltk_data]   Unzipping corpora/stopwords.zip.\n"
          ]
        }
      ]
    },
    {
      "cell_type": "code",
      "source": [
        "# Removing the stopwords\n",
        "tqdm.pandas()\n",
        "\n",
        "def pre_process_remove_stopwords(text, is_lower_case=False):\n",
        "    tokenizer = ToktokTokenizer()\n",
        "    tokens = tokenizer.tokenize(text)\n",
        "    tokens = [token.strip() for token in tokens]\n",
        "    if is_lower_case:\n",
        "        filtered_tokens = [token for token in tokens if token not in stopword_list]\n",
        "    else:\n",
        "        filtered_tokens = [token for token in tokens if token.lower() not in stopword_list]\n",
        "    filtered_text = ' '.join(filtered_tokens)\n",
        "    return filtered_text\n",
        "\n",
        "# Apply function on review column\n",
        "filtered_df['Cleaned_Dialogue'] = filtered_df['Cleaned_Dialogue'].progress_apply(pre_process_remove_stopwords)"
      ],
      "metadata": {
        "id": "ruLdk73ZE-Nu",
        "colab": {
          "base_uri": "https://localhost:8080/",
          "height": 153,
          "referenced_widgets": [
            "921570d118f749bda77c7e6c765e6992",
            "33bec8c52b1140c2ae0be6108d31635f",
            "603678206e904e5689c36521a99b0328",
            "04ce3946405f4462a46597f1e2193853",
            "a6b8f8930afc479c98c8530cece4608f",
            "c1e2170fd0d74a579f14dfedb95a980a",
            "bbd913a204ce458ca39c2865eb6485af",
            "cdbeda02040547b2bfb0a39ec344d49c",
            "4509cb340859413a8784e41eee689685",
            "a3416a0cf1334d74aa85b73829cc87a5",
            "ddc5eb8d04084f67a0455d0087262113"
          ]
        },
        "outputId": "ebff5cce-dc22-4937-98bd-b2798789a90b"
      },
      "execution_count": null,
      "outputs": [
        {
          "output_type": "display_data",
          "data": {
            "text/plain": [
              "  0%|          | 0/70289 [00:00<?, ?it/s]"
            ],
            "application/vnd.jupyter.widget-view+json": {
              "version_major": 2,
              "version_minor": 0,
              "model_id": "921570d118f749bda77c7e6c765e6992"
            }
          },
          "metadata": {}
        },
        {
          "output_type": "stream",
          "name": "stderr",
          "text": [
            "<ipython-input-9-e8f334f409d0>:16: SettingWithCopyWarning: \n",
            "A value is trying to be set on a copy of a slice from a DataFrame.\n",
            "Try using .loc[row_indexer,col_indexer] = value instead\n",
            "\n",
            "See the caveats in the documentation: https://pandas.pydata.org/pandas-docs/stable/user_guide/indexing.html#returning-a-view-versus-a-copy\n",
            "  filtered_df['Cleaned_Dialogue'] = filtered_df['Cleaned_Dialogue'].progress_apply(pre_process_remove_stopwords)\n"
          ]
        }
      ]
    },
    {
      "cell_type": "markdown",
      "source": [
        "Let's check our example after removing the stop words:"
      ],
      "metadata": {
        "id": "TKLYCdhwFBOR"
      }
    },
    {
      "cell_type": "code",
      "source": [
        "filtered_df.iloc[1,5]"
      ],
      "metadata": {
        "id": "M4FU9KqLFFs5",
        "colab": {
          "base_uri": "https://localhost:8080/",
          "height": 36
        },
        "outputId": "21274ef2-7162-4c02-d2ff-5e12619123e9"
      },
      "execution_count": null,
      "outputs": [
        {
          "output_type": "execute_result",
          "data": {
            "text/plain": [
              "'joey gonna embarrassed going nothing prepared'"
            ],
            "application/vnd.google.colaboratory.intrinsic+json": {
              "type": "string"
            }
          },
          "metadata": {},
          "execution_count": 10
        }
      ]
    },
    {
      "cell_type": "markdown",
      "source": [
        "As we can see in the example, words like \"are,\" \"you,\" and \"having\" are taken out, making the text more concise. This helps in focusing on the essential meaning of the dialogue, disregarding unnecessary words."
      ],
      "metadata": {
        "id": "5hf6ijyzcxSm"
      }
    },
    {
      "cell_type": "markdown",
      "source": [
        "## Stemming"
      ],
      "metadata": {
        "id": "OKfpk0w1IXBE"
      }
    },
    {
      "cell_type": "markdown",
      "source": [
        "Next, we apply stemming to the \"Cleaned_Dialogue\" column using the NLTK Porter stemming algorithm. This step involves reducing words to their base forms, facilitating more efficient text analysis by consolidating variations of the same word and simplifying feature extraction for downstream tasks."
      ],
      "metadata": {
        "id": "DC1W7KWgIZaN"
      }
    },
    {
      "cell_type": "code",
      "source": [
        "# Stemming the text\n",
        "def pre_process_simple_stemmer(text):\n",
        "    ps = nltk.porter.PorterStemmer()\n",
        "    text = ' '.join([ps.stem(word) for word in text.split()])\n",
        "    return text\n",
        "\n",
        "# Apply function on Cleaned_Dialogue column\n",
        "filtered_df['Cleaned_Dialogue'] = filtered_df['Cleaned_Dialogue'].progress_apply(pre_process_simple_stemmer)"
      ],
      "metadata": {
        "colab": {
          "base_uri": "https://localhost:8080/",
          "height": 153,
          "referenced_widgets": [
            "0f3bbd91de464d4f9f968089a370706f",
            "bad12ad0a4aa467e87ad8e0d8e130a8e",
            "526fa2f5486345aeb30495be980ae91c",
            "386da8a72d954040a2ad8b7b82dde3de",
            "d557777960754559a5dc45ae1cfa3d72",
            "cd4596d368794e5aa364019da0202d38",
            "73418adb69564cbdbb64dcb6ba9b1c20",
            "1c2a95f89eed4f0399a2ec8b68896f02",
            "33987e1912c74e3584e0b98e1b823f8c",
            "8a5c7576cbb64c908c35b483d77c1bc8",
            "9723e11247c747b084030ae4b2a1b903"
          ]
        },
        "id": "-RJqH9yXJUVF",
        "outputId": "6125d064-b7c6-4205-c0bb-28a7da7ee1ae"
      },
      "execution_count": null,
      "outputs": [
        {
          "output_type": "display_data",
          "data": {
            "text/plain": [
              "  0%|          | 0/70289 [00:00<?, ?it/s]"
            ],
            "application/vnd.jupyter.widget-view+json": {
              "version_major": 2,
              "version_minor": 0,
              "model_id": "0f3bbd91de464d4f9f968089a370706f"
            }
          },
          "metadata": {}
        },
        {
          "output_type": "stream",
          "name": "stderr",
          "text": [
            "<ipython-input-11-5fc2cebbd7e4>:8: SettingWithCopyWarning: \n",
            "A value is trying to be set on a copy of a slice from a DataFrame.\n",
            "Try using .loc[row_indexer,col_indexer] = value instead\n",
            "\n",
            "See the caveats in the documentation: https://pandas.pydata.org/pandas-docs/stable/user_guide/indexing.html#returning-a-view-versus-a-copy\n",
            "  filtered_df['Cleaned_Dialogue'] = filtered_df['Cleaned_Dialogue'].progress_apply(pre_process_simple_stemmer)\n"
          ]
        }
      ]
    },
    {
      "cell_type": "markdown",
      "source": [
        "And Let's watch the result on our example:"
      ],
      "metadata": {
        "id": "HL8PGNaEJexn"
      }
    },
    {
      "cell_type": "code",
      "source": [
        "filtered_df.iloc[1,5]"
      ],
      "metadata": {
        "colab": {
          "base_uri": "https://localhost:8080/",
          "height": 36
        },
        "id": "tOElfD72JeB3",
        "outputId": "8cbdb2af-66b8-4fe0-d780-6f4efe9759d5"
      },
      "execution_count": null,
      "outputs": [
        {
          "output_type": "execute_result",
          "data": {
            "text/plain": [
              "'joey gonna embarrass go noth prepar'"
            ],
            "application/vnd.google.colaboratory.intrinsic+json": {
              "type": "string"
            }
          },
          "metadata": {},
          "execution_count": 12
        }
      ]
    },
    {
      "cell_type": "markdown",
      "source": [
        "We can see in the example that the dialogue undergoes a further transformation. Words like \"embarrassed\" and \"prepared\" are reduced to their root form (\"embarrass\" and \"prepar\"), resulting in a more streamlined and normalized representation. This process aids in simplifying the text, consolidating related words, and preparing the data for analysis or modeling by focusing on the core meaning of the words."
      ],
      "metadata": {
        "id": "PftiKzCwyKsM"
      }
    },
    {
      "cell_type": "markdown",
      "source": [
        "## Balances the labeled data"
      ],
      "metadata": {
        "id": "H2N9UW3DFNI6"
      }
    },
    {
      "cell_type": "markdown",
      "source": [
        "Now, we'll check the balance between the two shows in the dataset and apply a balancing technique if necessary."
      ],
      "metadata": {
        "id": "2cZilKa5ifLX"
      }
    },
    {
      "cell_type": "code",
      "source": [
        "# Check the balance between the two shows\n",
        "show_distribution = filtered_df['Show'].value_counts()\n",
        "show_distribution\n"
      ],
      "metadata": {
        "id": "LWjRq6WNf-wt",
        "colab": {
          "base_uri": "https://localhost:8080/"
        },
        "outputId": "2845b3db-41e2-4f6d-e9f1-b4a371726b61"
      },
      "execution_count": null,
      "outputs": [
        {
          "output_type": "execute_result",
          "data": {
            "text/plain": [
              "Friends     39054\n",
              "Seinfeld    31235\n",
              "Name: Show, dtype: int64"
            ]
          },
          "metadata": {},
          "execution_count": 13
        }
      ]
    },
    {
      "cell_type": "markdown",
      "source": [
        "The dataset contains 39,054 dialogues from \"Friends\" and 31,235 dialogues from \"Seinfeld\". While there is some imbalance, it is not extremely severe. However, to ensure optimal model performance, given the relatively close numbers, we choose oversampling the \"Seinfeld\" dialogues slightly.\n",
        "\n",
        "(Oversampling: Increase the number of instances in the underrepresented class by duplicating them.)\n"
      ],
      "metadata": {
        "id": "Blf0Xb-1iwNz"
      }
    },
    {
      "cell_type": "code",
      "source": [
        "def pre_process_balanced_distrubition(df):\n",
        "    # Separate the dataset based on the shows\n",
        "    df_friends = df[df['Show'] == 'Friends']\n",
        "    df_seinfeld = df[df['Show'] == 'Seinfeld']\n",
        "\n",
        "    # Oversample the Seinfeld dialogues\n",
        "    df_seinfeld_oversampled = resample(df_seinfeld,\n",
        "                                    replace=True,     # sample with replacement\n",
        "                                    n_samples=len(df_friends),    # to match number in Friends class\n",
        "                                    random_state=123) # reproducible results\n",
        "\n",
        "    # Combine the oversampled Seinfeld dialogues with the Friends dialogues\n",
        "    balanced_df = pd.concat([df_friends, df_seinfeld_oversampled])\n",
        "\n",
        "    # Check the new balance between the two shows\n",
        "    balanced_distribution = balanced_df['Show'].value_counts()\n",
        "    balanced_distribution\n",
        "\n",
        "    return balanced_df"
      ],
      "metadata": {
        "id": "A1JchTQgiOQ8"
      },
      "execution_count": null,
      "outputs": []
    },
    {
      "cell_type": "code",
      "source": [
        "balanced_df = pre_process_balanced_distrubition(filtered_df)"
      ],
      "metadata": {
        "id": "HtmpcqzPFVEO"
      },
      "execution_count": null,
      "outputs": []
    },
    {
      "cell_type": "markdown",
      "source": [
        "The dataset is now perfectly balanced, with 39,054 dialogues from each show. This balanced dataset should help in training a more fair and unbiased model."
      ],
      "metadata": {
        "id": "xJdvKIDakAwU"
      }
    },
    {
      "cell_type": "markdown",
      "source": [
        "## Tokenization and Vectorization"
      ],
      "metadata": {
        "id": "Zh5Nkd3uLHhl"
      }
    },
    {
      "cell_type": "markdown",
      "source": [
        "In this  section, we perform tokenization and vectorization on our balanced TV show dialogue dataset. Tokenization converts text into individual elements (tokens), typically words, a crucial step in preparing text data for machine learning models. Following tokenization, we employ sequence padding using TensorFlow's Keras API to ensure consistent sequence lengths. This uniformity is vital for neural networks that expect standardized input dimensions. The process involves initializing a tokenizer, mapping words to integers, converting texts to integer sequences, and padding them for uniformity. The result is a numerical representation of our text data, primed for deep learning applications."
      ],
      "metadata": {
        "id": "_vAD3fDMkC77"
      }
    },
    {
      "cell_type": "code",
      "source": [
        "# Attempting tokenization and vectorization with the balanced dataset\n",
        "try:\n",
        "\n",
        "    # Initialize the tokenizer\n",
        "    tokenizer = Tokenizer()\n",
        "    tokenizer.fit_on_texts(balanced_df['Cleaned_Dialogue'])\n",
        "\n",
        "    # Convert texts to sequences\n",
        "    sequences = tokenizer.texts_to_sequences(balanced_df['Cleaned_Dialogue'])\n",
        "\n",
        "    # Pad the sequences to have the same length\n",
        "    max_length = max([len(seq) for seq in sequences])\n",
        "    padded_sequences = pad_sequences(sequences, maxlen=max_length, padding='post')\n",
        "\n",
        "    # Output the shape of the padded sequences and the tokenizer's word index\n",
        "    print(padded_sequences.shape, len(tokenizer.word_index))\n",
        "except ModuleNotFoundError:\n",
        "    # If TensorFlow is still not available, inform the user\n",
        "    print('TensorFlow is still not available in this environment.')\n"
      ],
      "metadata": {
        "id": "uJEENMwNj426",
        "colab": {
          "base_uri": "https://localhost:8080/"
        },
        "outputId": "3d032814-3bdb-4036-b12f-5cc571bfd4c8"
      },
      "execution_count": null,
      "outputs": [
        {
          "output_type": "stream",
          "name": "stdout",
          "text": [
            "(78108, 62) 16036\n"
          ]
        }
      ]
    },
    {
      "cell_type": "markdown",
      "source": [
        "With the tokenization and vectorization successfully executed, our text data is now appropriately formatted for neural network training."
      ],
      "metadata": {
        "id": "dTsEYmqUoVTp"
      }
    },
    {
      "cell_type": "markdown",
      "source": [
        "## Labeling"
      ],
      "metadata": {
        "id": "jqvAGdcjzJsj"
      }
    },
    {
      "cell_type": "markdown",
      "source": [
        "First, we need to encode our target variable 'Show' into a binary format. We'll use LabelEncoder from scikit-learn for this purpose. The labels will be transformed such that 'Friends' might be encoded as 0, and 'Seinfeld' as 1.\n"
      ],
      "metadata": {
        "id": "KbzF_qptoWnI"
      }
    },
    {
      "cell_type": "code",
      "source": [
        "# Initialize and fit the label encoder\n",
        "label_encoder = LabelEncoder()\n",
        "y = label_encoder.fit_transform(balanced_df['Show'])"
      ],
      "metadata": {
        "id": "c-UhwU2KohzC"
      },
      "execution_count": null,
      "outputs": []
    },
    {
      "cell_type": "markdown",
      "source": [
        "Next, we split our dataset into training and validation sets. This is crucial for assessing our model's performance and ensuring it generalizes well beyond the training data."
      ],
      "metadata": {
        "id": "hCXIfIXApPkE"
      }
    },
    {
      "cell_type": "code",
      "source": [
        "# Split the data: 80% for training, 20% for validation\n",
        "X_train, X_val, y_train, y_val = train_test_split(padded_sequences, y, test_size=0.2, random_state=42)\n"
      ],
      "metadata": {
        "id": "f4NKSb1FpQUi"
      },
      "execution_count": null,
      "outputs": []
    },
    {
      "cell_type": "markdown",
      "source": [
        "# Define the model"
      ],
      "metadata": {
        "id": "ZqYOGL_FzVbR"
      }
    },
    {
      "cell_type": "markdown",
      "source": [
        "\n",
        "Our model for text classification features an embedding layer, a 1D convolutional layer with ReLU activation, flattening, a dense layer with L2 regularization, dropout for regularization, and a final dense layer with sigmoid activation for binary classification. Adjustments, like regularization strength and dropout rate, can be made for customization."
      ],
      "metadata": {
        "id": "sBqk-wlOpbrM"
      }
    },
    {
      "cell_type": "code",
      "source": [
        "\n",
        "# Adjust these values as needed\n",
        "L2_REGULARIZATION = 0.001\n",
        "DROPOUT_RATE = 0.5\n",
        "\n",
        "# Define the model with regularization and dropout\n",
        "model = Sequential([\n",
        "    Embedding(input_dim=len(tokenizer.word_index) + 1, output_dim=100, input_length=max_length),\n",
        "    Conv1D(8, 3, padding='same', activation='relu'),\n",
        "    Flatten(),\n",
        "    Dense(10, activation='relu', kernel_regularizer=l2(L2_REGULARIZATION)),\n",
        "    Dropout(DROPOUT_RATE),\n",
        "    Dense(1, activation='sigmoid')\n",
        "])\n"
      ],
      "metadata": {
        "id": "u1eMd77fpcPD"
      },
      "execution_count": null,
      "outputs": []
    },
    {
      "cell_type": "markdown",
      "source": [
        "Before training, we need to compile our model with an optimizer, a loss function, and a metric to monitor.\n",
        "We added early stopping and reduce learning rate call backs to improve the training process. they are changing the training process so it will now automatically stop if the validation loss doesn't improve for 3 epochs,\n",
        "and the learning rate will reduce if the validation loss doesn't improve for 2 epochs."
      ],
      "metadata": {
        "id": "AieGp7wTpmrm"
      }
    },
    {
      "cell_type": "code",
      "source": [
        "model.compile(optimizer='adam',\n",
        "              loss='binary_crossentropy',\n",
        "              metrics=['accuracy'])\n",
        "\n",
        "# Introduce EarlyStopping and ReduceLROnPlateau for better training control\n",
        "early_stopping = EarlyStopping(monitor='val_loss', patience=3, restore_best_weights=True)\n",
        "reduce_lr = ReduceLROnPlateau(monitor='val_loss', factor=0.1, patience=2)\n",
        "\n",
        "model.summary()\n"
      ],
      "metadata": {
        "id": "fyDQ85Yrpo2R",
        "colab": {
          "base_uri": "https://localhost:8080/"
        },
        "outputId": "c4d3b456-cf03-44d4-845e-67f77a501cb7"
      },
      "execution_count": null,
      "outputs": [
        {
          "output_type": "stream",
          "name": "stdout",
          "text": [
            "Model: \"sequential\"\n",
            "_________________________________________________________________\n",
            " Layer (type)                Output Shape              Param #   \n",
            "=================================================================\n",
            " embedding (Embedding)       (None, 62, 100)           1603700   \n",
            "                                                                 \n",
            " conv1d (Conv1D)             (None, 62, 8)             2408      \n",
            "                                                                 \n",
            " flatten (Flatten)           (None, 496)               0         \n",
            "                                                                 \n",
            " dense (Dense)               (None, 10)                4970      \n",
            "                                                                 \n",
            " dropout (Dropout)           (None, 10)                0         \n",
            "                                                                 \n",
            " dense_1 (Dense)             (None, 1)                 11        \n",
            "                                                                 \n",
            "=================================================================\n",
            "Total params: 1611089 (6.15 MB)\n",
            "Trainable params: 1611089 (6.15 MB)\n",
            "Non-trainable params: 0 (0.00 Byte)\n",
            "_________________________________________________________________\n"
          ]
        }
      ]
    },
    {
      "cell_type": "markdown",
      "source": [
        "Finally, we fit the model on our training data while validating its performance on the validation set"
      ],
      "metadata": {
        "id": "WX7a4xGSp1bT"
      }
    },
    {
      "cell_type": "code",
      "source": [
        "history = model.fit(X_train, y_train,\n",
        "                    batch_size=32,\n",
        "                    epochs=10,\n",
        "                    validation_data=(X_val, y_val),\n",
        "                    callbacks=[early_stopping, reduce_lr])\n"
      ],
      "metadata": {
        "id": "5KbCHpTgp2gL",
        "colab": {
          "base_uri": "https://localhost:8080/"
        },
        "outputId": "f1db2096-f585-4a04-8037-f309743ecbc9"
      },
      "execution_count": null,
      "outputs": [
        {
          "output_type": "stream",
          "name": "stdout",
          "text": [
            "Epoch 1/10\n",
            "1953/1953 [==============================] - 35s 16ms/step - loss: 0.5579 - accuracy: 0.6958 - val_loss: 0.4784 - val_accuracy: 0.7457 - lr: 0.0010\n",
            "Epoch 2/10\n",
            "1953/1953 [==============================] - 11s 6ms/step - loss: 0.4689 - accuracy: 0.7668 - val_loss: 0.4599 - val_accuracy: 0.7573 - lr: 0.0010\n",
            "Epoch 3/10\n",
            "1953/1953 [==============================] - 10s 5ms/step - loss: 0.4249 - accuracy: 0.7926 - val_loss: 0.4556 - val_accuracy: 0.7672 - lr: 0.0010\n",
            "Epoch 4/10\n",
            "1953/1953 [==============================] - 9s 5ms/step - loss: 0.3934 - accuracy: 0.8114 - val_loss: 0.4653 - val_accuracy: 0.7724 - lr: 0.0010\n",
            "Epoch 5/10\n",
            "1953/1953 [==============================] - 10s 5ms/step - loss: 0.3624 - accuracy: 0.8279 - val_loss: 0.4855 - val_accuracy: 0.7754 - lr: 0.0010\n",
            "Epoch 6/10\n",
            "1953/1953 [==============================] - 10s 5ms/step - loss: 0.3252 - accuracy: 0.8485 - val_loss: 0.4949 - val_accuracy: 0.7779 - lr: 1.0000e-04\n"
          ]
        }
      ]
    },
    {
      "cell_type": "code",
      "source": [
        "# Save the number of epochs and embedding dimension for the summary csv\n",
        "num_epochs = len(history.history['loss'])\n",
        "embedding_dimension = model.layers[0].output_dim\n",
        "\n",
        "print(\"Number of Epochs:\", num_epochs)\n",
        "print(\"Embedding Dimension:\", embedding_dimension)"
      ],
      "metadata": {
        "colab": {
          "base_uri": "https://localhost:8080/"
        },
        "id": "aL5O9Orq1AEM",
        "outputId": "06ec8c99-1b49-40f4-b314-ef6a7820b4a8"
      },
      "execution_count": null,
      "outputs": [
        {
          "output_type": "stream",
          "name": "stdout",
          "text": [
            "Number of Epochs: 6\n",
            "Embedding Dimension: 100\n"
          ]
        }
      ]
    },
    {
      "cell_type": "markdown",
      "source": [
        "# Implementing on the test data"
      ],
      "metadata": {
        "id": "jkXz6EBNFnUg"
      }
    },
    {
      "cell_type": "markdown",
      "source": [
        "Next, we'll apply the same preprocessing steps used on the training data to the test data."
      ],
      "metadata": {
        "id": "fEvaUnac1Plu"
      }
    },
    {
      "cell_type": "code",
      "source": [
        "test_df['Cleaned_Dialogue'] = test_df['Dialogue'].apply(pre_process_clean_text)\n",
        "\n",
        "# Count the number of words in the cleaned dialogues\n",
        "test_df['Cleaned_Dialogue_Length'] = test_df['Cleaned_Dialogue'].apply(lambda x: len(x.split()))\n",
        "# Remove dialogues longer than the threshold\n",
        "test_df = test_df[test_df['Cleaned_Dialogue_Length'] <= threshold]\n",
        "\n",
        "test_df['Cleaned_Dialogue'] = test_df['Cleaned_Dialogue'].progress_apply(pre_process_remove_stopwords)\n",
        "\n",
        "test_df['Cleaned_Dialogue'] = test_df['Cleaned_Dialogue'].progress_apply(pre_process_simple_stemmer)\n",
        "\n",
        "\n",
        "# Assuming 'tokenizer' is available from previous steps\n",
        "test_sequences = tokenizer.texts_to_sequences(test_df['Cleaned_Dialogue'])\n",
        "test_padded_sequences = pad_sequences(test_sequences, maxlen=max_length, padding='post')\n",
        "\n",
        "# Assuming 'label_encoder' is available from previous steps\n",
        "y_test = label_encoder.transform(test_df['Show'])\n"
      ],
      "metadata": {
        "id": "prJ3Fd3B0IHn",
        "colab": {
          "base_uri": "https://localhost:8080/",
          "height": 81,
          "referenced_widgets": [
            "0811e73c5b3442809c862d06e08c1e6d",
            "5564030d06a743bb8e42efe213feaace",
            "513c955ba6a24eed8e76a8219cf40eda",
            "4d4269f4f8e34c00857b8483d2a1a4e2",
            "57aea221283e4c91ab2227c73e022dd3",
            "e9700997e421471c988c0cfa43710fd7",
            "23c3bda36fb346dbb3fd2b84538d1282",
            "5d6ff94273e74df99aceaef9e60e78c5",
            "1db7e1d007a84c78afba5d71eaec9c3e",
            "4698353cbeeb4e728f320dc8b287edcf",
            "85f15218e8d34b69854c8e5d8bfb85f9",
            "aaf943447d6348ac82d88b80033e67e0",
            "0280cdb4be774eabbb6ef7fbda1b5c87",
            "4ce62c089d914303b1af598320a12d0a",
            "7ceb0b3fe2a34ac6a5911d11f3868f35",
            "c8e35771b35e405086857b1b5fa21911",
            "d4d6d79bf7d0488cb3a74f36ed548a39",
            "ca9b0ab89543474eb74d39ff22b4580a",
            "c8eac5831a92451dae9591daea32b3f2",
            "baea53fce61f46fcbe74cb6c81618d4c",
            "a03a80a596c24d5ca824ac155208457a",
            "a4eadf65d39d44b7b2390110c7c91f94"
          ]
        },
        "outputId": "f11bcea5-11e3-4047-d022-41e8b9e02e12"
      },
      "execution_count": null,
      "outputs": [
        {
          "output_type": "display_data",
          "data": {
            "text/plain": [
              "  0%|          | 0/4217 [00:00<?, ?it/s]"
            ],
            "application/vnd.jupyter.widget-view+json": {
              "version_major": 2,
              "version_minor": 0,
              "model_id": "0811e73c5b3442809c862d06e08c1e6d"
            }
          },
          "metadata": {}
        },
        {
          "output_type": "display_data",
          "data": {
            "text/plain": [
              "  0%|          | 0/4217 [00:00<?, ?it/s]"
            ],
            "application/vnd.jupyter.widget-view+json": {
              "version_major": 2,
              "version_minor": 0,
              "model_id": "aaf943447d6348ac82d88b80033e67e0"
            }
          },
          "metadata": {}
        }
      ]
    },
    {
      "cell_type": "markdown",
      "source": [
        "# Evaluating the model"
      ],
      "metadata": {
        "id": "pKUSjaK92W2q"
      }
    },
    {
      "cell_type": "code",
      "source": [
        "# Make predictions on the train data\n",
        "y_train_pred_prob = model.predict(X_train)\n",
        "y_train_pred = [1 if prob > 0.5 else 0 for prob in y_train_pred_prob]  # Convert probabilities to class labels\n",
        "\n",
        "# Make predictions on the test data\n",
        "y_test_pred_prob = model.predict(test_padded_sequences)\n",
        "y_test_pred = [1 if prob > 0.5 else 0 for prob in y_test_pred_prob]  # Convert probabilities to class labels\n"
      ],
      "metadata": {
        "id": "-0OgVxVo0xsP",
        "colab": {
          "base_uri": "https://localhost:8080/"
        },
        "outputId": "a2df7a42-8b4c-46f4-f6db-63f1285ed779"
      },
      "execution_count": null,
      "outputs": [
        {
          "output_type": "stream",
          "name": "stdout",
          "text": [
            "1953/1953 [==============================] - 4s 2ms/step\n",
            "132/132 [==============================] - 0s 2ms/step\n"
          ]
        }
      ]
    },
    {
      "cell_type": "code",
      "source": [
        "# Calculate Accuracy\n",
        "train_accuracy = accuracy_score(y_train, y_train_pred)\n",
        "test_accuracy = accuracy_score(y_test, y_test_pred)\n",
        "print(f'Test Accuracy: {test_accuracy * 100:.2f}%')\n",
        "print(f'Train Accuracy: {train_accuracy * 100:.2f}% \\n')\n",
        "\n",
        "# Calculate Precision\n",
        "test_precision = precision_score(y_test, y_test_pred)\n",
        "print(f'Test Precision: {test_precision * 100:.2f}%')\n",
        "train_precision = precision_score(y_train, y_train_pred)\n",
        "print(f'Train Precision: {train_precision * 100:.2f}% \\n')\n",
        "\n",
        "# Calculate Recall\n",
        "test_recall = recall_score(y_test, y_test_pred)\n",
        "print(f'Test Recall: {test_recall * 100:.2f}%')\n",
        "train_recall = recall_score(y_train, y_train_pred)\n",
        "print(f'Train Recall: {train_recall * 100:.2f}% \\n')\n",
        "\n",
        "# Calculate F1 Score\n",
        "test_f1 = f1_score(y_test, y_test_pred)\n",
        "print(f'Test F1 Score: {test_f1 * 100:.2f}%')\n",
        "train_f1 = f1_score(y_train, y_train_pred)\n",
        "print(f'Train F1 Score: {train_f1 * 100:.2f}%\\n')\n"
      ],
      "metadata": {
        "id": "0djJWh3P01R6",
        "colab": {
          "base_uri": "https://localhost:8080/"
        },
        "outputId": "075f5216-a8b2-4aed-bc80-3da75a2e7726"
      },
      "execution_count": null,
      "outputs": [
        {
          "output_type": "stream",
          "name": "stdout",
          "text": [
            "Test Accuracy: 83.21%\n",
            "Train Accuracy: 83.86% \n",
            "\n",
            "Test Precision: 78.95%\n",
            "Train Precision: 79.99% \n",
            "\n",
            "Test Recall: 77.21%\n",
            "Train Recall: 90.29% \n",
            "\n",
            "Test F1 Score: 78.07%\n",
            "Train F1 Score: 84.83%\n",
            "\n"
          ]
        }
      ]
    },
    {
      "cell_type": "markdown",
      "source": [
        "Here’s what each line does:\n",
        "\n",
        "- **Accuracy**: Compares the predicted labels (`y_pred`) with the true labels (`y_test`) and computes the proportion of correct predictions over all predictions.\n",
        "- **Precision**: Measures the accuracy of positive predictions. It's calculated as the number of true positives divided by the number of all positive predictions (true positives + false positives).\n",
        "- **Recall**: Measures the ability of the classifier to find all the positive samples. It's calculated as the number of true positives divided by the number of all actual positives (true positives + false negatives).\n",
        "- **F1 Score**: Provides a single score that balances both the precision and the recall in one number. It's particularly useful if you have an uneven class distribution, as it seeks a balance between precision and recall.\n"
      ],
      "metadata": {
        "id": "q5sjItrx1MUX"
      }
    },
    {
      "cell_type": "markdown",
      "source": [
        "# Analyzing the Results"
      ],
      "metadata": {
        "id": "16nW2PV93Np4"
      }
    },
    {
      "cell_type": "markdown",
      "source": [
        "Analyzing Results by Character:\n"
      ],
      "metadata": {
        "id": "8Fr2bJQ04B_D"
      }
    },
    {
      "cell_type": "code",
      "source": [
        "# Results dictionary\n",
        "results = {}\n",
        "\n",
        "# List of characters to analyze\n",
        "characters = ['jerry', 'george', 'elaine', 'kramer', 'ross', 'rachel', 'chandler', 'monica', 'joey', 'phoebe']\n",
        "\n",
        "for character in characters:\n",
        "    # Filter by character\n",
        "    character_df = test_df[test_df['Character'].str.lower() == character]\n",
        "\n",
        "    # Continue only if there are lines for the character\n",
        "    if not character_df.empty:\n",
        "        # Preprocess the dialogues\n",
        "        character_cleaned_dialogues = character_df['Cleaned_Dialogue'].apply(pre_process_clean_text)\n",
        "        character_sequences = tokenizer.texts_to_sequences(character_cleaned_dialogues)\n",
        "        character_padded_sequences = pad_sequences(character_sequences, maxlen=max_length, padding='post')\n",
        "\n",
        "        # Predict and evaluate\n",
        "        character_y_true = label_encoder.transform(character_df['Show'])\n",
        "        character_y_pred_prob = model.predict(character_padded_sequences)\n",
        "        character_y_pred = [1 if prob > 0.5 else 0 for prob in character_y_pred_prob.flatten()]\n",
        "\n",
        "        # Calculate accuracy for this character\n",
        "        character_accuracy = accuracy_score(character_y_true, character_y_pred)\n",
        "        results[character] = character_accuracy\n",
        "\n",
        "# Display the results\n",
        "for character, accuracy in results.items():\n",
        "  print(f\"{character.capitalize()}: {accuracy * 100:.2f}%\")\n"
      ],
      "metadata": {
        "id": "HpEI_OFv25Ri",
        "colab": {
          "base_uri": "https://localhost:8080/"
        },
        "outputId": "8373e6ad-0e26-40ed-9244-cd59cf5de21c"
      },
      "execution_count": null,
      "outputs": [
        {
          "output_type": "stream",
          "name": "stdout",
          "text": [
            "18/18 [==============================] - 0s 4ms/step\n",
            "15/15 [==============================] - 0s 5ms/step\n",
            "10/10 [==============================] - 0s 6ms/step\n",
            "10/10 [==============================] - 0s 8ms/step\n",
            "15/15 [==============================] - 0s 2ms/step\n",
            "15/15 [==============================] - 0s 5ms/step\n",
            "13/13 [==============================] - 0s 2ms/step\n",
            "12/12 [==============================] - 0s 6ms/step\n",
            "15/15 [==============================] - 0s 5ms/step\n",
            "13/13 [==============================] - 0s 5ms/step\n",
            "Jerry: 78.98%\n",
            "George: 77.22%\n",
            "Elaine: 72.26%\n",
            "Kramer: 78.64%\n",
            "Ross: 88.58%\n",
            "Rachel: 86.98%\n",
            "Chandler: 84.39%\n",
            "Monica: 88.68%\n",
            "Joey: 85.93%\n",
            "Phoebe: 87.50%\n"
          ]
        }
      ]
    },
    {
      "cell_type": "markdown",
      "source": [
        "Now let's see it on a graph"
      ],
      "metadata": {
        "id": "pK43TrPO52Xr"
      }
    },
    {
      "cell_type": "code",
      "source": [
        "# Character names and their accuracies\n",
        "names = list(results.keys())\n",
        "values = [accuracy * 100 for accuracy in results.values()]\n",
        "\n",
        "# Define shows and their characters\n",
        "shows = {\n",
        "    'Seinfeld': ['jerry', 'george', 'elaine', 'kramer'],\n",
        "    'Friends': ['ross', 'rachel', 'chandler', 'monica', 'joey', 'phoebe']\n",
        "}\n",
        "\n",
        "# Define colors for each show\n",
        "color_map = {\n",
        "    'jerry': 'green', 'george': 'green', 'elaine': 'green', 'kramer': 'green',  # Colors for Seinfeld characters\n",
        "    'ross': 'orange', 'rachel': 'orange', 'chandler': 'orange', 'monica': 'orange', 'joey': 'orange', 'phoebe': 'orange'  # Colors for Friends characters\n",
        "}\n",
        "\n",
        "# Assign colors to each character\n",
        "colors = [color_map[name] for name in names]\n",
        "\n",
        "# Calculate average accuracy for each show\n",
        "avg_accuracies = {}\n",
        "for show, chars in shows.items():\n",
        "    avg_accuracies[show] = np.mean([results[char] * 100 for char in chars if char in results])\n",
        "\n",
        "# Creating the bar plot with adjusted margins\n",
        "plt.figure(figsize=(10, 6))\n",
        "plt.subplots_adjust(bottom=0.2)\n",
        "bars = plt.bar(names, values, color=colors)\n",
        "plt.xlabel('Characters')\n",
        "plt.ylabel('Accuracy (%)')\n",
        "plt.title('Accuracy by Character')\n",
        "plt.xticks(rotation=45)\n",
        "\n",
        "# Add average accuracy annotations outside the plot\n",
        "for i, (show, avg_accuracy) in enumerate(avg_accuracies.items()):\n",
        "    plt.figtext(0.5, 0.05 - (i * 0.05), f'Avg {show}: {avg_accuracy:.2f}%', ha='center', va='top')\n",
        "\n",
        "plt.show()\n"
      ],
      "metadata": {
        "id": "Ck-p2xTU4KTT",
        "colab": {
          "base_uri": "https://localhost:8080/",
          "height": 601
        },
        "outputId": "f90a9461-8562-4842-bb9f-a874f5a6633b"
      },
      "execution_count": null,
      "outputs": [
        {
          "output_type": "display_data",
          "data": {
            "text/plain": [
              "<Figure size 1000x600 with 1 Axes>"
            ],
            "image/png": "[encoded data removed]"
          },
          "metadata": {}
        }
      ]
    },
    {
      "cell_type": "markdown",
      "source": [
        "The model seems to perform well across various characters from both \"Seinfeld\" and \"Friends.\"\n",
        "Characters from \"Friends\" generally have higher accuracies compared to those from \"Seinfeld.\" <br>\n",
        "The reason why the model might do better on \"Friends\" characters than on \"Seinfeld\" characters is likely because we have a lot more examples from the \"Friends\" show. This unequal amount of data can influence the model's predictions, making it more familiar with the characters from the larger dataset.\n",
        "\n",
        "\n",
        "\n",
        "\n",
        "\n",
        "\n"
      ],
      "metadata": {
        "id": "Nb__5sVv65cA"
      }
    },
    {
      "cell_type": "markdown",
      "source": [
        "# Summary"
      ],
      "metadata": {
        "id": "BZf5Ihwd5n4O"
      }
    },
    {
      "cell_type": "code",
      "source": [
        "model_details = {\n",
        "    'Test Set Accuracy': [test_accuracy],\n",
        "    'Train Set Accuracy': [train_accuracy],\n",
        "    'Number of Trainable Parameters': [model.count_params()],\n",
        "    'Number of Layers': [len(model.layers)],\n",
        "    'Regularization Methods': ['L2, Dropout'],\n",
        "    'Number of Epochs': [num_epochs],\n",
        "    'Choice of Loss Function': ['binary_crossentropy'],\n",
        "    'Choice of Optimizer': ['Adam'],\n",
        "    'Embedding Dimension': [embedding_dimension]\n",
        "}\n",
        "\n",
        "exercise3_df = pd.DataFrame(model_details)\n",
        "\n",
        "csv_file_name = 'exercise3.csv'\n",
        "\n",
        "exercise3_df.to_csv(csv_file_name, index=False)\n",
        "\n"
      ],
      "metadata": {
        "id": "guSmiXTHkyHT"
      },
      "execution_count": null,
      "outputs": []
    },
    {
      "cell_type": "code",
      "source": [
        "exercise3_df"
      ],
      "metadata": {
        "id": "fdU_M2sn7Y0X",
        "colab": {
          "base_uri": "https://localhost:8080/",
          "height": 115
        },
        "outputId": "89aeacef-ac83-471f-9729-6b7e658c991c"
      },
      "execution_count": null,
      "outputs": [
        {
          "output_type": "execute_result",
          "data": {
            "text/plain": [
              "   Test Set Accuracy  Train Set Accuracy  Number of Trainable Parameters  \\\n",
              "0           0.832108            0.838556                         1611089   \n",
              "\n",
              "   Number of Layers Regularization Methods  Number of Epochs  \\\n",
              "0                 6            L2, Dropout                 6   \n",
              "\n",
              "  Choice of Loss Function Choice of Optimizer  Embedding Dimension  \n",
              "0     binary_crossentropy                Adam                  100  "
            ],
            "text/html": [
              "\n",
              "  <div id=\"df-eed23838-7f42-4e03-b5c4-c32176d44ed9\" class=\"colab-df-container\">\n",
              "    <div>\n",
              "<style scoped>\n",
              "    .dataframe tbody tr th:only-of-type {\n",
              "        vertical-align: middle;\n",
              "    }\n",
              "\n",
              "    .dataframe tbody tr th {\n",
              "        vertical-align: top;\n",
              "    }\n",
              "\n",
              "    .dataframe thead th {\n",
              "        text-align: right;\n",
              "    }\n",
              "</style>\n",
              "<table border=\"1\" class=\"dataframe\">\n",
              "  <thead>\n",
              "    <tr style=\"text-align: right;\">\n",
              "      <th></th>\n",
              "      <th>Test Set Accuracy</th>\n",
              "      <th>Train Set Accuracy</th>\n",
              "      <th>Number of Trainable Parameters</th>\n",
              "      <th>Number of Layers</th>\n",
              "      <th>Regularization Methods</th>\n",
              "      <th>Number of Epochs</th>\n",
              "      <th>Choice of Loss Function</th>\n",
              "      <th>Choice of Optimizer</th>\n",
              "      <th>Embedding Dimension</th>\n",
              "    </tr>\n",
              "  </thead>\n",
              "  <tbody>\n",
              "    <tr>\n",
              "      <th>0</th>\n",
              "      <td>0.832108</td>\n",
              "      <td>0.838556</td>\n",
              "      <td>1611089</td>\n",
              "      <td>6</td>\n",
              "      <td>L2, Dropout</td>\n",
              "      <td>6</td>\n",
              "      <td>binary_crossentropy</td>\n",
              "      <td>Adam</td>\n",
              "      <td>100</td>\n",
              "    </tr>\n",
              "  </tbody>\n",
              "</table>\n",
              "</div>\n",
              "    <div class=\"colab-df-buttons\">\n",
              "\n",
              "  <div class=\"colab-df-container\">\n",
              "    <button class=\"colab-df-convert\" onclick=\"convertToInteractive('df-eed23838-7f42-4e03-b5c4-c32176d44ed9')\"\n",
              "            title=\"Convert this dataframe to an interactive table.\"\n",
              "            style=\"display:none;\">\n",
              "\n",
              "  <svg xmlns=\"http://www.w3.org/2000/svg\" height=\"24px\" viewBox=\"0 -960 960 960\">\n",
              "    <path d=\"M120-120v-720h720v720H120Zm60-500h600v-160H180v160Zm220 220h160v-160H400v160Zm0 220h160v-160H400v160ZM180-400h160v-160H180v160Zm440 0h160v-160H620v160ZM180-180h160v-160H180v160Zm440 0h160v-160H620v160Z\"/>\n",
              "  </svg>\n",
              "    </button>\n",
              "\n",
              "  <style>\n",
              "    .colab-df-container {\n",
              "      display:flex;\n",
              "      gap: 12px;\n",
              "    }\n",
              "\n",
              "    .colab-df-convert {\n",
              "      background-color: #E8F0FE;\n",
              "      border: none;\n",
              "      border-radius: 50%;\n",
              "      cursor: pointer;\n",
              "      display: none;\n",
              "      fill: #1967D2;\n",
              "      height: 32px;\n",
              "      padding: 0 0 0 0;\n",
              "      width: 32px;\n",
              "    }\n",
              "\n",
              "    .colab-df-convert:hover {\n",
              "      background-color: #E2EBFA;\n",
              "      box-shadow: 0px 1px 2px rgba(60, 64, 67, 0.3), 0px 1px 3px 1px rgba(60, 64, 67, 0.15);\n",
              "      fill: #174EA6;\n",
              "    }\n",
              "\n",
              "    .colab-df-buttons div {\n",
              "      margin-bottom: 4px;\n",
              "    }\n",
              "\n",
              "    [theme=dark] .colab-df-convert {\n",
              "      background-color: #3B4455;\n",
              "      fill: #D2E3FC;\n",
              "    }\n",
              "\n",
              "    [theme=dark] .colab-df-convert:hover {\n",
              "      background-color: #434B5C;\n",
              "      box-shadow: 0px 1px 3px 1px rgba(0, 0, 0, 0.15);\n",
              "      filter: drop-shadow(0px 1px 2px rgba(0, 0, 0, 0.3));\n",
              "      fill: #FFFFFF;\n",
              "    }\n",
              "  </style>\n",
              "\n",
              "    <script>\n",
              "      const buttonEl =\n",
              "        document.querySelector('#df-eed23838-7f42-4e03-b5c4-c32176d44ed9 button.colab-df-convert');\n",
              "      buttonEl.style.display =\n",
              "        google.colab.kernel.accessAllowed ? 'block' : 'none';\n",
              "\n",
              "      async function convertToInteractive(key) {\n",
              "        const element = document.querySelector('#df-eed23838-7f42-4e03-b5c4-c32176d44ed9');\n",
              "        const dataTable =\n",
              "          await google.colab.kernel.invokeFunction('convertToInteractive',\n",
              "                                                    [key], {});\n",
              "        if (!dataTable) return;\n",
              "\n",
              "        const docLinkHtml = 'Like what you see? Visit the ' +\n",
              "          '<a target=\"_blank\" href=https://colab.research.google.com/notebooks/data_table.ipynb>data table notebook</a>'\n",
              "          + ' to learn more about interactive tables.';\n",
              "        element.innerHTML = '';\n",
              "        dataTable['output_type'] = 'display_data';\n",
              "        await google.colab.output.renderOutput(dataTable, element);\n",
              "        const docLink = document.createElement('div');\n",
              "        docLink.innerHTML = docLinkHtml;\n",
              "        element.appendChild(docLink);\n",
              "      }\n",
              "    </script>\n",
              "  </div>\n",
              "\n",
              "    </div>\n",
              "  </div>\n"
            ],
            "application/vnd.google.colaboratory.intrinsic+json": {
              "type": "dataframe",
              "variable_name": "exercise3_df",
              "summary": "{\n  \"name\": \"exercise3_df\",\n  \"rows\": 1,\n  \"fields\": [\n    {\n      \"column\": \"Test Set Accuracy\",\n      \"properties\": {\n        \"dtype\": \"number\",\n        \"std\": null,\n        \"min\": 0.832108133744368,\n        \"max\": 0.832108133744368,\n        \"num_unique_values\": 1,\n        \"samples\": [\n          0.832108133744368\n        ],\n        \"semantic_type\": \"\",\n        \"description\": \"\"\n      }\n    },\n    {\n      \"column\": \"Train Set Accuracy\",\n      \"properties\": {\n        \"dtype\": \"number\",\n        \"std\": null,\n        \"min\": 0.8385558365073776,\n        \"max\": 0.8385558365073776,\n        \"num_unique_values\": 1,\n        \"samples\": [\n          0.8385558365073776\n        ],\n        \"semantic_type\": \"\",\n        \"description\": \"\"\n      }\n    },\n    {\n      \"column\": \"Number of Trainable Parameters\",\n      \"properties\": {\n        \"dtype\": \"number\",\n        \"std\": null,\n        \"min\": 1611089,\n        \"max\": 1611089,\n        \"num_unique_values\": 1,\n        \"samples\": [\n          1611089\n        ],\n        \"semantic_type\": \"\",\n        \"description\": \"\"\n      }\n    },\n    {\n      \"column\": \"Number of Layers\",\n      \"properties\": {\n        \"dtype\": \"number\",\n        \"std\": null,\n        \"min\": 6,\n        \"max\": 6,\n        \"num_unique_values\": 1,\n        \"samples\": [\n          6\n        ],\n        \"semantic_type\": \"\",\n        \"description\": \"\"\n      }\n    },\n    {\n      \"column\": \"Regularization Methods\",\n      \"properties\": {\n        \"dtype\": \"string\",\n        \"num_unique_values\": 1,\n        \"samples\": [\n          \"L2, Dropout\"\n        ],\n        \"semantic_type\": \"\",\n        \"description\": \"\"\n      }\n    },\n    {\n      \"column\": \"Number of Epochs\",\n      \"properties\": {\n        \"dtype\": \"number\",\n        \"std\": null,\n        \"min\": 6,\n        \"max\": 6,\n        \"num_unique_values\": 1,\n        \"samples\": [\n          6\n        ],\n        \"semantic_type\": \"\",\n        \"description\": \"\"\n      }\n    },\n    {\n      \"column\": \"Choice of Loss Function\",\n      \"properties\": {\n        \"dtype\": \"string\",\n        \"num_unique_values\": 1,\n        \"samples\": [\n          \"binary_crossentropy\"\n        ],\n        \"semantic_type\": \"\",\n        \"description\": \"\"\n      }\n    },\n    {\n      \"column\": \"Choice of Optimizer\",\n      \"properties\": {\n        \"dtype\": \"string\",\n        \"num_unique_values\": 1,\n        \"samples\": [\n          \"Adam\"\n        ],\n        \"semantic_type\": \"\",\n        \"description\": \"\"\n      }\n    },\n    {\n      \"column\": \"Embedding Dimension\",\n      \"properties\": {\n        \"dtype\": \"number\",\n        \"std\": null,\n        \"min\": 100,\n        \"max\": 100,\n        \"num_unique_values\": 1,\n        \"samples\": [\n          100\n        ],\n        \"semantic_type\": \"\",\n        \"description\": \"\"\n      }\n    }\n  ]\n}"
            }
          },
          "metadata": {},
          "execution_count": 29
        }
      ]
    }
  ]
}